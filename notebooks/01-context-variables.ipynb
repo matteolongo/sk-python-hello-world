{
 "cells": [
  {
   "cell_type": "code",
   "execution_count": 1,
   "metadata": {},
   "outputs": [
    {
     "name": "stdout",
     "output_type": "stream",
     "text": [
      "Requirement already satisfied: semantic-kernel in /Users/matteolongo/projects/randomness/restaurant-review--anlyzer/sk-python-hello-world/.venv/lib/python3.11/site-packages (0.3.10.dev0)\n",
      "Requirement already satisfied: aiofiles<24.0.0,>=23.1.0 in /Users/matteolongo/projects/randomness/restaurant-review--anlyzer/sk-python-hello-world/.venv/lib/python3.11/site-packages (from semantic-kernel) (23.1.0)\n",
      "Requirement already satisfied: numpy<2.0.0,>=1.24.2 in /Users/matteolongo/projects/randomness/restaurant-review--anlyzer/sk-python-hello-world/.venv/lib/python3.11/site-packages (from semantic-kernel) (1.24.3)\n",
      "Requirement already satisfied: openai<0.28.0,>=0.27.0 in /Users/matteolongo/projects/randomness/restaurant-review--anlyzer/sk-python-hello-world/.venv/lib/python3.11/site-packages (from semantic-kernel) (0.27.6)\n",
      "Requirement already satisfied: openapi_core<0.19.0,>=0.18.0 in /Users/matteolongo/projects/randomness/restaurant-review--anlyzer/sk-python-hello-world/.venv/lib/python3.11/site-packages (from semantic-kernel) (0.18.1)\n",
      "Requirement already satisfied: prance<24.0.0.0,>=23.6.21.0 in /Users/matteolongo/projects/randomness/restaurant-review--anlyzer/sk-python-hello-world/.venv/lib/python3.11/site-packages (from semantic-kernel) (23.6.21.0)\n",
      "Requirement already satisfied: pydantic<2 in /Users/matteolongo/projects/randomness/restaurant-review--anlyzer/sk-python-hello-world/.venv/lib/python3.11/site-packages (from semantic-kernel) (1.10.13)\n",
      "Requirement already satisfied: python-dotenv==1.0.0 in /Users/matteolongo/projects/randomness/restaurant-review--anlyzer/sk-python-hello-world/.venv/lib/python3.11/site-packages (from semantic-kernel) (1.0.0)\n",
      "Requirement already satisfied: regex<2024.0.0,>=2023.6.3 in /Users/matteolongo/projects/randomness/restaurant-review--anlyzer/sk-python-hello-world/.venv/lib/python3.11/site-packages (from semantic-kernel) (2023.10.3)\n",
      "Requirement already satisfied: requests>=2.20 in /Users/matteolongo/projects/randomness/restaurant-review--anlyzer/sk-python-hello-world/.venv/lib/python3.11/site-packages (from openai<0.28.0,>=0.27.0->semantic-kernel) (2.31.0)\n",
      "Requirement already satisfied: tqdm in /Users/matteolongo/projects/randomness/restaurant-review--anlyzer/sk-python-hello-world/.venv/lib/python3.11/site-packages (from openai<0.28.0,>=0.27.0->semantic-kernel) (4.65.0)\n",
      "Requirement already satisfied: aiohttp in /Users/matteolongo/projects/randomness/restaurant-review--anlyzer/sk-python-hello-world/.venv/lib/python3.11/site-packages (from openai<0.28.0,>=0.27.0->semantic-kernel) (3.8.5)\n",
      "Requirement already satisfied: asgiref<4.0.0,>=3.6.0 in /Users/matteolongo/projects/randomness/restaurant-review--anlyzer/sk-python-hello-world/.venv/lib/python3.11/site-packages (from openapi_core<0.19.0,>=0.18.0->semantic-kernel) (3.7.2)\n",
      "Requirement already satisfied: isodate in /Users/matteolongo/projects/randomness/restaurant-review--anlyzer/sk-python-hello-world/.venv/lib/python3.11/site-packages (from openapi_core<0.19.0,>=0.18.0->semantic-kernel) (0.6.1)\n",
      "Requirement already satisfied: jsonschema<5.0.0,>=4.18.0 in /Users/matteolongo/projects/randomness/restaurant-review--anlyzer/sk-python-hello-world/.venv/lib/python3.11/site-packages (from openapi_core<0.19.0,>=0.18.0->semantic-kernel) (4.19.2)\n",
      "Requirement already satisfied: jsonschema-spec<0.3.0,>=0.2.3 in /Users/matteolongo/projects/randomness/restaurant-review--anlyzer/sk-python-hello-world/.venv/lib/python3.11/site-packages (from openapi_core<0.19.0,>=0.18.0->semantic-kernel) (0.2.4)\n",
      "Requirement already satisfied: more-itertools in /Users/matteolongo/projects/randomness/restaurant-review--anlyzer/sk-python-hello-world/.venv/lib/python3.11/site-packages (from openapi_core<0.19.0,>=0.18.0->semantic-kernel) (10.1.0)\n",
      "Requirement already satisfied: openapi-schema-validator<0.7.0,>=0.6.0 in /Users/matteolongo/projects/randomness/restaurant-review--anlyzer/sk-python-hello-world/.venv/lib/python3.11/site-packages (from openapi_core<0.19.0,>=0.18.0->semantic-kernel) (0.6.2)\n",
      "Requirement already satisfied: openapi-spec-validator<0.7.0,>=0.6.0 in /Users/matteolongo/projects/randomness/restaurant-review--anlyzer/sk-python-hello-world/.venv/lib/python3.11/site-packages (from openapi_core<0.19.0,>=0.18.0->semantic-kernel) (0.6.0)\n",
      "Requirement already satisfied: parse in /Users/matteolongo/projects/randomness/restaurant-review--anlyzer/sk-python-hello-world/.venv/lib/python3.11/site-packages (from openapi_core<0.19.0,>=0.18.0->semantic-kernel) (1.19.1)\n",
      "Requirement already satisfied: werkzeug in /Users/matteolongo/projects/randomness/restaurant-review--anlyzer/sk-python-hello-world/.venv/lib/python3.11/site-packages (from openapi_core<0.19.0,>=0.18.0->semantic-kernel) (3.0.1)\n",
      "Requirement already satisfied: chardet>=3.0 in /Users/matteolongo/projects/randomness/restaurant-review--anlyzer/sk-python-hello-world/.venv/lib/python3.11/site-packages (from prance<24.0.0.0,>=23.6.21.0->semantic-kernel) (5.2.0)\n",
      "Requirement already satisfied: ruamel.yaml>=0.17.10 in /Users/matteolongo/projects/randomness/restaurant-review--anlyzer/sk-python-hello-world/.venv/lib/python3.11/site-packages (from prance<24.0.0.0,>=23.6.21.0->semantic-kernel) (0.18.5)\n",
      "Requirement already satisfied: six~=1.15 in /Users/matteolongo/projects/randomness/restaurant-review--anlyzer/sk-python-hello-world/.venv/lib/python3.11/site-packages (from prance<24.0.0.0,>=23.6.21.0->semantic-kernel) (1.16.0)\n",
      "Requirement already satisfied: packaging>=21.3 in /Users/matteolongo/projects/randomness/restaurant-review--anlyzer/sk-python-hello-world/.venv/lib/python3.11/site-packages (from prance<24.0.0.0,>=23.6.21.0->semantic-kernel) (23.1)\n",
      "Requirement already satisfied: typing-extensions>=4.2.0 in /Users/matteolongo/projects/randomness/restaurant-review--anlyzer/sk-python-hello-world/.venv/lib/python3.11/site-packages (from pydantic<2->semantic-kernel) (4.8.0)\n",
      "Requirement already satisfied: attrs>=22.2.0 in /Users/matteolongo/projects/randomness/restaurant-review--anlyzer/sk-python-hello-world/.venv/lib/python3.11/site-packages (from jsonschema<5.0.0,>=4.18.0->openapi_core<0.19.0,>=0.18.0->semantic-kernel) (23.1.0)\n",
      "Requirement already satisfied: jsonschema-specifications>=2023.03.6 in /Users/matteolongo/projects/randomness/restaurant-review--anlyzer/sk-python-hello-world/.venv/lib/python3.11/site-packages (from jsonschema<5.0.0,>=4.18.0->openapi_core<0.19.0,>=0.18.0->semantic-kernel) (2023.7.1)\n",
      "Requirement already satisfied: referencing>=0.28.4 in /Users/matteolongo/projects/randomness/restaurant-review--anlyzer/sk-python-hello-world/.venv/lib/python3.11/site-packages (from jsonschema<5.0.0,>=4.18.0->openapi_core<0.19.0,>=0.18.0->semantic-kernel) (0.30.2)\n",
      "Requirement already satisfied: rpds-py>=0.7.1 in /Users/matteolongo/projects/randomness/restaurant-review--anlyzer/sk-python-hello-world/.venv/lib/python3.11/site-packages (from jsonschema<5.0.0,>=4.18.0->openapi_core<0.19.0,>=0.18.0->semantic-kernel) (0.10.6)\n",
      "Requirement already satisfied: PyYAML>=5.1 in /Users/matteolongo/projects/randomness/restaurant-review--anlyzer/sk-python-hello-world/.venv/lib/python3.11/site-packages (from jsonschema-spec<0.3.0,>=0.2.3->openapi_core<0.19.0,>=0.18.0->semantic-kernel) (6.0.1)\n",
      "Requirement already satisfied: pathable<0.5.0,>=0.4.1 in /Users/matteolongo/projects/randomness/restaurant-review--anlyzer/sk-python-hello-world/.venv/lib/python3.11/site-packages (from jsonschema-spec<0.3.0,>=0.2.3->openapi_core<0.19.0,>=0.18.0->semantic-kernel) (0.4.3)\n",
      "Requirement already satisfied: rfc3339-validator in /Users/matteolongo/projects/randomness/restaurant-review--anlyzer/sk-python-hello-world/.venv/lib/python3.11/site-packages (from openapi-schema-validator<0.7.0,>=0.6.0->openapi_core<0.19.0,>=0.18.0->semantic-kernel) (0.1.4)\n",
      "Requirement already satisfied: lazy-object-proxy<2.0.0,>=1.7.1 in /Users/matteolongo/projects/randomness/restaurant-review--anlyzer/sk-python-hello-world/.venv/lib/python3.11/site-packages (from openapi-spec-validator<0.7.0,>=0.6.0->openapi_core<0.19.0,>=0.18.0->semantic-kernel) (1.9.0)\n",
      "Requirement already satisfied: charset-normalizer<4,>=2 in /Users/matteolongo/projects/randomness/restaurant-review--anlyzer/sk-python-hello-world/.venv/lib/python3.11/site-packages (from requests>=2.20->openai<0.28.0,>=0.27.0->semantic-kernel) (3.1.0)\n",
      "Requirement already satisfied: idna<4,>=2.5 in /Users/matteolongo/projects/randomness/restaurant-review--anlyzer/sk-python-hello-world/.venv/lib/python3.11/site-packages (from requests>=2.20->openai<0.28.0,>=0.27.0->semantic-kernel) (3.4)\n",
      "Requirement already satisfied: urllib3<3,>=1.21.1 in /Users/matteolongo/projects/randomness/restaurant-review--anlyzer/sk-python-hello-world/.venv/lib/python3.11/site-packages (from requests>=2.20->openai<0.28.0,>=0.27.0->semantic-kernel) (2.0.2)\n",
      "Requirement already satisfied: certifi>=2017.4.17 in /Users/matteolongo/projects/randomness/restaurant-review--anlyzer/sk-python-hello-world/.venv/lib/python3.11/site-packages (from requests>=2.20->openai<0.28.0,>=0.27.0->semantic-kernel) (2023.7.22)\n",
      "Requirement already satisfied: ruamel.yaml.clib>=0.2.7 in /Users/matteolongo/projects/randomness/restaurant-review--anlyzer/sk-python-hello-world/.venv/lib/python3.11/site-packages (from ruamel.yaml>=0.17.10->prance<24.0.0.0,>=23.6.21.0->semantic-kernel) (0.2.8)\n",
      "Requirement already satisfied: multidict<7.0,>=4.5 in /Users/matteolongo/projects/randomness/restaurant-review--anlyzer/sk-python-hello-world/.venv/lib/python3.11/site-packages (from aiohttp->openai<0.28.0,>=0.27.0->semantic-kernel) (6.0.4)\n",
      "Requirement already satisfied: async-timeout<5.0,>=4.0.0a3 in /Users/matteolongo/projects/randomness/restaurant-review--anlyzer/sk-python-hello-world/.venv/lib/python3.11/site-packages (from aiohttp->openai<0.28.0,>=0.27.0->semantic-kernel) (4.0.2)\n",
      "Requirement already satisfied: yarl<2.0,>=1.0 in /Users/matteolongo/projects/randomness/restaurant-review--anlyzer/sk-python-hello-world/.venv/lib/python3.11/site-packages (from aiohttp->openai<0.28.0,>=0.27.0->semantic-kernel) (1.9.2)\n",
      "Requirement already satisfied: frozenlist>=1.1.1 in /Users/matteolongo/projects/randomness/restaurant-review--anlyzer/sk-python-hello-world/.venv/lib/python3.11/site-packages (from aiohttp->openai<0.28.0,>=0.27.0->semantic-kernel) (1.3.3)\n",
      "Requirement already satisfied: aiosignal>=1.1.2 in /Users/matteolongo/projects/randomness/restaurant-review--anlyzer/sk-python-hello-world/.venv/lib/python3.11/site-packages (from aiohttp->openai<0.28.0,>=0.27.0->semantic-kernel) (1.3.1)\n",
      "Requirement already satisfied: MarkupSafe>=2.1.1 in /Users/matteolongo/projects/randomness/restaurant-review--anlyzer/sk-python-hello-world/.venv/lib/python3.11/site-packages (from werkzeug->openapi_core<0.19.0,>=0.18.0->semantic-kernel) (2.1.3)\n"
     ]
    }
   ],
   "source": [
    "!python -m pip install semantic-kernel"
   ]
  },
  {
   "cell_type": "markdown",
   "metadata": {},
   "source": [
    "Let's create a **native** function that gives us a random number between 3 and a user input as the upper limit. We'll use this number to create 3-x paragraphs of text when passed to a semantic function."
   ]
  },
  {
   "cell_type": "code",
   "execution_count": 2,
   "metadata": {},
   "outputs": [],
   "source": [
    "import random\n",
    "from semantic_kernel.skill_definition import sk_function\n",
    "\n",
    "class GenerateNumberSkill:\n",
    "    \"\"\"\n",
    "    Description: Generate a number between 3-x.\n",
    "    \"\"\"\n",
    "\n",
    "    @sk_function(\n",
    "        description=\"Generate a random number between 3-x\",\n",
    "        name=\"GenerateNumberThreeOrHigher\"\n",
    "    )\n",
    "    def generate_number_three_or_higher(self, input: str) -> str:\n",
    "        \"\"\"\n",
    "        Generate a number between 3-<input>\n",
    "        Example:\n",
    "            \"8\" => rand(3,8)\n",
    "        Args:\n",
    "            input -- The upper limit for the random number generation\n",
    "        Returns:\n",
    "            int value\n",
    "        \"\"\"\n",
    "        try:\n",
    "            return str(random.randint(3, int(input))) \n",
    "        except ValueError as e:\n",
    "            print(f\"Invalid input {input}\")\n",
    "            raise e"
   ]
  },
  {
   "cell_type": "code",
   "execution_count": 3,
   "metadata": {},
   "outputs": [
    {
     "data": {
      "text/plain": [
       "<semantic_kernel.kernel.Kernel at 0x11143fd90>"
      ]
     },
     "execution_count": 3,
     "metadata": {},
     "output_type": "execute_result"
    }
   ],
   "source": [
    "import semantic_kernel as sk\n",
    "from semantic_kernel.connectors.ai.open_ai import OpenAIChatCompletion\n",
    "\n",
    "kernel = sk.Kernel()\n",
    "api_key, org_id = sk.openai_settings_from_dot_env()\n",
    "kernel.add_chat_service(\"chat-gpt\", OpenAIChatCompletion(\"gpt-3.5-turbo\", api_key, org_id))"
   ]
  },
  {
   "cell_type": "markdown",
   "metadata": {},
   "source": [
    "Next, let's create a semantic function that accepts a number as `{{$input}}` and generates that number of paragraphs about two Developers on an adventure. `$input` is a default variable semantic functions can use. "
   ]
  },
  {
   "cell_type": "code",
   "execution_count": 4,
   "metadata": {},
   "outputs": [],
   "source": [
    "sk_prompt = \"\"\"\n",
    "Write a short story about two Developers on an adventure.\n",
    "The story must be:\n",
    "- G rated\n",
    "- Have a positive message\n",
    "- No sexism, racism or other bias/bigotry\n",
    "- Be exactly {{$input}} paragraphs long\n",
    "\"\"\"\n",
    "\n",
    "developer_story = kernel.create_semantic_function(prompt_template=sk_prompt,\n",
    "                                              function_name=\"DeveloperStory\",\n",
    "                                              skill_name=\"DeveloperSkill\",\n",
    "                                              description=\"Write a short story about two Developers on an adventure\",\n",
    "                                              max_tokens=500,\n",
    "                                              temperature=0.5,\n",
    "                                              top_p=0.5)\n",
    "\n",
    "generate_number_skill = kernel.import_skill(GenerateNumberSkill())"
   ]
  },
  {
   "cell_type": "code",
   "execution_count": 5,
   "metadata": {},
   "outputs": [
    {
     "name": "stdout",
     "output_type": "stream",
     "text": [
      "4\n",
      "Generating a developer story exactly 4 paragraphs long: \n",
      "=====================================================\n",
      "Once upon a time, in a small town, there were two developers named Alex and Maya. They were known for their incredible coding skills and their passion for creating innovative software. One day, they received an invitation to a mysterious adventure. Curiosity sparked, they eagerly accepted the invitation and set off on their journey.\n",
      "\n",
      "As they ventured through dense forests and crossed treacherous rivers, Alex and Maya encountered various challenges. But instead of giving up, they used their problem-solving skills to overcome each obstacle. They realized that their individual strengths complemented each other perfectly, and together, they became an unstoppable team.\n",
      "\n",
      "Throughout their adventure, Alex and Maya met people from different backgrounds and cultures. They embraced diversity and learned from each person they encountered. They discovered that by working together and respecting one another, they could achieve great things.\n",
      "\n",
      "Finally, after a long and arduous journey, Alex and Maya reached their destination. They were greeted by a wise old sage who commended them for their perseverance and teamwork. The sage explained that the purpose of their adventure was to teach them the value of collaboration and the importance of embracing diversity.\n",
      "\n",
      "With newfound wisdom, Alex and Maya returned to their town, eager to share their experiences with others. They organized coding workshops, encouraging everyone to work together and celebrate their unique talents. The town flourished as people embraced collaboration and diversity, creating a harmonious community where everyone's skills were valued.\n",
      "\n",
      "And so, the tale of Alex and Maya spread far and wide, inspiring others to embark on their own adventures and discover the power of unity. The developers' journey taught them that by embracing diversity and working together, they could overcome any challenge and create a better world for all.\n"
     ]
    }
   ],
   "source": [
    "# Run the number generator\n",
    "generate_number_three_or_higher = generate_number_skill[\"GenerateNumberThreeOrHigher\"]\n",
    "number_result = generate_number_three_or_higher(6)\n",
    "print(number_result)\n",
    "\n",
    "story = await developer_story.invoke_async(input=number_result.result)\n",
    "\n",
    "print(\"Generating a developer story exactly {} paragraphs long: \".format(number_result.result))\n",
    "print(\"=====================================================\")\n",
    "print(story)"
   ]
  },
  {
   "cell_type": "markdown",
   "metadata": {},
   "source": [
    "## Context Variables\n",
    "\n",
    "That works! But let's expand on our example to make it more generic. \n",
    "\n",
    "For the native function, we'll introduce the lower limit variable. This means that a user will input two numbers and the number generator function will pick a number between the first and second input.\n",
    "\n",
    "We'll make use of the `semantic_kernel.ContextVariables` class to do hold these variables."
   ]
  },
  {
   "cell_type": "code",
   "execution_count": 6,
   "metadata": {},
   "outputs": [],
   "source": [
    "import random\n",
    "from semantic_kernel.skill_definition import sk_function, sk_function_context_parameter\n",
    "from semantic_kernel import SKContext\n",
    "\n",
    "class GenerateNumberSkillAdvanced:\n",
    "    \"\"\"\n",
    "    Description: Generate a number between a min and a max.\n",
    "    \"\"\"\n",
    "\n",
    "    @sk_function(\n",
    "        description=\"Generate a random number between min and max\",\n",
    "        name=\"GenerateNumber\"\n",
    "    )\n",
    "    @sk_function_context_parameter(name=\"min\", description=\"Minimum number of paragraphs.\")\n",
    "    @sk_function_context_parameter(name=\"max\", description=\"Maximum number of paragraphs.\", default_value=10)\n",
    "    def generate_number(self, context: SKContext) -> str:\n",
    "        \"\"\"\n",
    "        Generate a number between min-max\n",
    "        Example:\n",
    "            min=\"4\" max=\"10\" => rand(4,8)\n",
    "        Args:\n",
    "            min -- The lower limit for the random number generation\n",
    "            max -- The upper limit for the random number generation\n",
    "        Returns:\n",
    "            int value\n",
    "        \"\"\"\n",
    "        try:\n",
    "            return str(random.randint(int(context[\"min\"]), int(context[\"max\"]))) \n",
    "        except ValueError as e:\n",
    "            print(f\"Invalid input {context['min']} {context['max']}\")\n",
    "            raise e"
   ]
  },
  {
   "cell_type": "markdown",
   "metadata": {},
   "source": [
    "Now let's also allow the semantic function to take in additional arguments. In this case, we're going to allow the our DeveloperStory function to be written in a specified language. We'll need to provide a `paragraph_count` and a `language`."
   ]
  },
  {
   "cell_type": "code",
   "execution_count": 7,
   "metadata": {},
   "outputs": [],
   "source": [
    "generate_number_skill = kernel.import_skill(GenerateNumberSkillAdvanced())\n",
    "generate_number = generate_number_skill[\"GenerateNumber\"]"
   ]
  },
  {
   "cell_type": "code",
   "execution_count": 8,
   "metadata": {},
   "outputs": [],
   "source": [
    "sk_prompt = \"\"\"\n",
    "Write a short story about two Developers on an adventure.\n",
    "The story must be:\n",
    "- G rated\n",
    "- Have a positive message\n",
    "- No sexism, racism or other bias/bigotry\n",
    "- Be exactly {{$paragraph_count}} paragraphs long\n",
    "- Be written in this language: {{$language}}\n",
    "\"\"\"\n",
    "\n",
    "developer_story = kernel.create_semantic_function(prompt_template=sk_prompt,\n",
    "                                              function_name=\"DeveloperStory\",\n",
    "                                              skill_name=\"DeveloperSkill\",\n",
    "                                              description=\"Write a short story about two Developers on an adventure\",\n",
    "                                              max_tokens=500,\n",
    "                                              temperature=0.5,\n",
    "                                              top_p=0.5)"
   ]
  },
  {
   "cell_type": "markdown",
   "metadata": {},
   "source": [
    "Now we can call this using our `invoke` function by passing in our `context_variables` in the `variables` parameter. "
   ]
  },
  {
   "cell_type": "code",
   "execution_count": 9,
   "metadata": {},
   "outputs": [],
   "source": [
    "context_variables = sk.ContextVariables(variables={\n",
    "    \"min\": 1,\n",
    "    \"max\": 5,\n",
    "    \"language\": \"Spanish\"\n",
    "})"
   ]
  },
  {
   "cell_type": "markdown",
   "metadata": {},
   "source": [
    "Let's add a paragraph count to our context variables "
   ]
  },
  {
   "cell_type": "code",
   "execution_count": 10,
   "metadata": {},
   "outputs": [],
   "source": [
    "context_variables['paragraph_count'] = generate_number.invoke(variables=context_variables).result\n",
    "\n",
    "# Pass the output to the semantic story function\n",
    "story = await developer_story.invoke_async(variables=context_variables)"
   ]
  },
  {
   "cell_type": "code",
   "execution_count": 11,
   "metadata": {},
   "outputs": [
    {
     "name": "stdout",
     "output_type": "stream",
     "text": [
      "Generating a developer story exactly 2 paragraphs long in Spanish language: \n",
      "=====================================================\n",
      "Había una vez dos desarrolladores llamados Ana y Carlos, quienes eran los mejores amigos y siempre estaban dispuestos a enfrentar cualquier desafío juntos. Un día, recibieron una misteriosa invitación para un viaje de aventura. Emocionados, se prepararon y partieron hacia lo desconocido.\n",
      "\n",
      "Durante su viaje, Ana y Carlos se encontraron con diversos obstáculos y problemas que requerían su habilidad y trabajo en equipo para resolverlos. A medida que avanzaban, se dieron cuenta de que la verdadera recompensa no era el tesoro que buscaban, sino la amistad y el compañerismo que habían fortalecido en su travesía. Al final, descubrieron que el verdadero tesoro era la satisfacción de superar desafíos juntos y la alegría de compartir experiencias inolvidables.\n",
      "\n",
      "Con corazones llenos de gratitud y amistad, Ana y Carlos regresaron a casa, sabiendo que habían aprendido una valiosa lección: el verdadero valor de la vida radica en las relaciones y en el amor que compartimos con los demás. Desde ese día, se convirtieron en los mejores desarrolladores y amigos que cualquiera podría desear, siempre dispuestos a embarcarse en nuevas aventuras y ayudar a los demás en el camino.\n"
     ]
    }
   ],
   "source": [
    "print(\"Generating a developer story exactly {} paragraphs long in {} language: \".format(context_variables[\"paragraph_count\"],\n",
    "                                                                                    context_variables[\"language\"]))\n",
    "print(\"=====================================================\")\n",
    "print(story)"
   ]
  }
 ],
 "metadata": {
  "kernelspec": {
   "display_name": ".venv",
   "language": "python",
   "name": "python3"
  },
  "language_info": {
   "codemirror_mode": {
    "name": "ipython",
    "version": 3
   },
   "file_extension": ".py",
   "mimetype": "text/x-python",
   "name": "python",
   "nbconvert_exporter": "python",
   "pygments_lexer": "ipython3",
   "version": "3.11.5"
  }
 },
 "nbformat": 4,
 "nbformat_minor": 2
}
