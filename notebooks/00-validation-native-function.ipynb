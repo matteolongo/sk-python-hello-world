{
 "cells": [
  {
   "cell_type": "markdown",
   "metadata": {},
   "source": [
    "Use of Native Function for LLM output validation"
   ]
  },
  {
   "cell_type": "code",
   "execution_count": 1,
   "metadata": {},
   "outputs": [
    {
     "name": "stdout",
     "output_type": "stream",
     "text": [
      "Requirement already satisfied: semantic-kernel in /Users/matteolongo/projects/randomness/restaurant-review--anlyzer/sk-python-hello-world/.venv/lib/python3.11/site-packages (0.3.10.dev0)\n",
      "Requirement already satisfied: aiofiles<24.0.0,>=23.1.0 in /Users/matteolongo/projects/randomness/restaurant-review--anlyzer/sk-python-hello-world/.venv/lib/python3.11/site-packages (from semantic-kernel) (23.1.0)\n",
      "Requirement already satisfied: numpy<2.0.0,>=1.24.2 in /Users/matteolongo/projects/randomness/restaurant-review--anlyzer/sk-python-hello-world/.venv/lib/python3.11/site-packages (from semantic-kernel) (1.24.3)\n",
      "Requirement already satisfied: openai<0.28.0,>=0.27.0 in /Users/matteolongo/projects/randomness/restaurant-review--anlyzer/sk-python-hello-world/.venv/lib/python3.11/site-packages (from semantic-kernel) (0.27.6)\n",
      "Requirement already satisfied: openapi_core<0.19.0,>=0.18.0 in /Users/matteolongo/projects/randomness/restaurant-review--anlyzer/sk-python-hello-world/.venv/lib/python3.11/site-packages (from semantic-kernel) (0.18.1)\n",
      "Requirement already satisfied: prance<24.0.0.0,>=23.6.21.0 in /Users/matteolongo/projects/randomness/restaurant-review--anlyzer/sk-python-hello-world/.venv/lib/python3.11/site-packages (from semantic-kernel) (23.6.21.0)\n",
      "Requirement already satisfied: pydantic<2 in /Users/matteolongo/projects/randomness/restaurant-review--anlyzer/sk-python-hello-world/.venv/lib/python3.11/site-packages (from semantic-kernel) (1.10.13)\n",
      "Requirement already satisfied: python-dotenv==1.0.0 in /Users/matteolongo/projects/randomness/restaurant-review--anlyzer/sk-python-hello-world/.venv/lib/python3.11/site-packages (from semantic-kernel) (1.0.0)\n",
      "Requirement already satisfied: regex<2024.0.0,>=2023.6.3 in /Users/matteolongo/projects/randomness/restaurant-review--anlyzer/sk-python-hello-world/.venv/lib/python3.11/site-packages (from semantic-kernel) (2023.10.3)\n",
      "Requirement already satisfied: requests>=2.20 in /Users/matteolongo/projects/randomness/restaurant-review--anlyzer/sk-python-hello-world/.venv/lib/python3.11/site-packages (from openai<0.28.0,>=0.27.0->semantic-kernel) (2.31.0)\n",
      "Requirement already satisfied: tqdm in /Users/matteolongo/projects/randomness/restaurant-review--anlyzer/sk-python-hello-world/.venv/lib/python3.11/site-packages (from openai<0.28.0,>=0.27.0->semantic-kernel) (4.65.0)\n",
      "Requirement already satisfied: aiohttp in /Users/matteolongo/projects/randomness/restaurant-review--anlyzer/sk-python-hello-world/.venv/lib/python3.11/site-packages (from openai<0.28.0,>=0.27.0->semantic-kernel) (3.8.5)\n",
      "Requirement already satisfied: asgiref<4.0.0,>=3.6.0 in /Users/matteolongo/projects/randomness/restaurant-review--anlyzer/sk-python-hello-world/.venv/lib/python3.11/site-packages (from openapi_core<0.19.0,>=0.18.0->semantic-kernel) (3.7.2)\n",
      "Requirement already satisfied: isodate in /Users/matteolongo/projects/randomness/restaurant-review--anlyzer/sk-python-hello-world/.venv/lib/python3.11/site-packages (from openapi_core<0.19.0,>=0.18.0->semantic-kernel) (0.6.1)\n",
      "Requirement already satisfied: jsonschema<5.0.0,>=4.18.0 in /Users/matteolongo/projects/randomness/restaurant-review--anlyzer/sk-python-hello-world/.venv/lib/python3.11/site-packages (from openapi_core<0.19.0,>=0.18.0->semantic-kernel) (4.19.2)\n",
      "Requirement already satisfied: jsonschema-spec<0.3.0,>=0.2.3 in /Users/matteolongo/projects/randomness/restaurant-review--anlyzer/sk-python-hello-world/.venv/lib/python3.11/site-packages (from openapi_core<0.19.0,>=0.18.0->semantic-kernel) (0.2.4)\n",
      "Requirement already satisfied: more-itertools in /Users/matteolongo/projects/randomness/restaurant-review--anlyzer/sk-python-hello-world/.venv/lib/python3.11/site-packages (from openapi_core<0.19.0,>=0.18.0->semantic-kernel) (10.1.0)\n",
      "Requirement already satisfied: openapi-schema-validator<0.7.0,>=0.6.0 in /Users/matteolongo/projects/randomness/restaurant-review--anlyzer/sk-python-hello-world/.venv/lib/python3.11/site-packages (from openapi_core<0.19.0,>=0.18.0->semantic-kernel) (0.6.2)\n",
      "Requirement already satisfied: openapi-spec-validator<0.7.0,>=0.6.0 in /Users/matteolongo/projects/randomness/restaurant-review--anlyzer/sk-python-hello-world/.venv/lib/python3.11/site-packages (from openapi_core<0.19.0,>=0.18.0->semantic-kernel) (0.6.0)\n",
      "Requirement already satisfied: parse in /Users/matteolongo/projects/randomness/restaurant-review--anlyzer/sk-python-hello-world/.venv/lib/python3.11/site-packages (from openapi_core<0.19.0,>=0.18.0->semantic-kernel) (1.19.1)\n",
      "Requirement already satisfied: werkzeug in /Users/matteolongo/projects/randomness/restaurant-review--anlyzer/sk-python-hello-world/.venv/lib/python3.11/site-packages (from openapi_core<0.19.0,>=0.18.0->semantic-kernel) (3.0.1)\n",
      "Requirement already satisfied: chardet>=3.0 in /Users/matteolongo/projects/randomness/restaurant-review--anlyzer/sk-python-hello-world/.venv/lib/python3.11/site-packages (from prance<24.0.0.0,>=23.6.21.0->semantic-kernel) (5.2.0)\n",
      "Requirement already satisfied: ruamel.yaml>=0.17.10 in /Users/matteolongo/projects/randomness/restaurant-review--anlyzer/sk-python-hello-world/.venv/lib/python3.11/site-packages (from prance<24.0.0.0,>=23.6.21.0->semantic-kernel) (0.18.5)\n",
      "Requirement already satisfied: six~=1.15 in /Users/matteolongo/projects/randomness/restaurant-review--anlyzer/sk-python-hello-world/.venv/lib/python3.11/site-packages (from prance<24.0.0.0,>=23.6.21.0->semantic-kernel) (1.16.0)\n",
      "Requirement already satisfied: packaging>=21.3 in /Users/matteolongo/projects/randomness/restaurant-review--anlyzer/sk-python-hello-world/.venv/lib/python3.11/site-packages (from prance<24.0.0.0,>=23.6.21.0->semantic-kernel) (23.1)\n",
      "Requirement already satisfied: typing-extensions>=4.2.0 in /Users/matteolongo/projects/randomness/restaurant-review--anlyzer/sk-python-hello-world/.venv/lib/python3.11/site-packages (from pydantic<2->semantic-kernel) (4.8.0)\n",
      "Requirement already satisfied: attrs>=22.2.0 in /Users/matteolongo/projects/randomness/restaurant-review--anlyzer/sk-python-hello-world/.venv/lib/python3.11/site-packages (from jsonschema<5.0.0,>=4.18.0->openapi_core<0.19.0,>=0.18.0->semantic-kernel) (23.1.0)\n",
      "Requirement already satisfied: jsonschema-specifications>=2023.03.6 in /Users/matteolongo/projects/randomness/restaurant-review--anlyzer/sk-python-hello-world/.venv/lib/python3.11/site-packages (from jsonschema<5.0.0,>=4.18.0->openapi_core<0.19.0,>=0.18.0->semantic-kernel) (2023.7.1)\n",
      "Requirement already satisfied: referencing>=0.28.4 in /Users/matteolongo/projects/randomness/restaurant-review--anlyzer/sk-python-hello-world/.venv/lib/python3.11/site-packages (from jsonschema<5.0.0,>=4.18.0->openapi_core<0.19.0,>=0.18.0->semantic-kernel) (0.30.2)\n",
      "Requirement already satisfied: rpds-py>=0.7.1 in /Users/matteolongo/projects/randomness/restaurant-review--anlyzer/sk-python-hello-world/.venv/lib/python3.11/site-packages (from jsonschema<5.0.0,>=4.18.0->openapi_core<0.19.0,>=0.18.0->semantic-kernel) (0.10.6)\n",
      "Requirement already satisfied: PyYAML>=5.1 in /Users/matteolongo/projects/randomness/restaurant-review--anlyzer/sk-python-hello-world/.venv/lib/python3.11/site-packages (from jsonschema-spec<0.3.0,>=0.2.3->openapi_core<0.19.0,>=0.18.0->semantic-kernel) (6.0.1)\n",
      "Requirement already satisfied: pathable<0.5.0,>=0.4.1 in /Users/matteolongo/projects/randomness/restaurant-review--anlyzer/sk-python-hello-world/.venv/lib/python3.11/site-packages (from jsonschema-spec<0.3.0,>=0.2.3->openapi_core<0.19.0,>=0.18.0->semantic-kernel) (0.4.3)\n",
      "Requirement already satisfied: rfc3339-validator in /Users/matteolongo/projects/randomness/restaurant-review--anlyzer/sk-python-hello-world/.venv/lib/python3.11/site-packages (from openapi-schema-validator<0.7.0,>=0.6.0->openapi_core<0.19.0,>=0.18.0->semantic-kernel) (0.1.4)\n",
      "Requirement already satisfied: lazy-object-proxy<2.0.0,>=1.7.1 in /Users/matteolongo/projects/randomness/restaurant-review--anlyzer/sk-python-hello-world/.venv/lib/python3.11/site-packages (from openapi-spec-validator<0.7.0,>=0.6.0->openapi_core<0.19.0,>=0.18.0->semantic-kernel) (1.9.0)\n",
      "Requirement already satisfied: charset-normalizer<4,>=2 in /Users/matteolongo/projects/randomness/restaurant-review--anlyzer/sk-python-hello-world/.venv/lib/python3.11/site-packages (from requests>=2.20->openai<0.28.0,>=0.27.0->semantic-kernel) (3.1.0)\n",
      "Requirement already satisfied: idna<4,>=2.5 in /Users/matteolongo/projects/randomness/restaurant-review--anlyzer/sk-python-hello-world/.venv/lib/python3.11/site-packages (from requests>=2.20->openai<0.28.0,>=0.27.0->semantic-kernel) (3.4)\n",
      "Requirement already satisfied: urllib3<3,>=1.21.1 in /Users/matteolongo/projects/randomness/restaurant-review--anlyzer/sk-python-hello-world/.venv/lib/python3.11/site-packages (from requests>=2.20->openai<0.28.0,>=0.27.0->semantic-kernel) (2.0.2)\n",
      "Requirement already satisfied: certifi>=2017.4.17 in /Users/matteolongo/projects/randomness/restaurant-review--anlyzer/sk-python-hello-world/.venv/lib/python3.11/site-packages (from requests>=2.20->openai<0.28.0,>=0.27.0->semantic-kernel) (2023.7.22)\n",
      "Requirement already satisfied: ruamel.yaml.clib>=0.2.7 in /Users/matteolongo/projects/randomness/restaurant-review--anlyzer/sk-python-hello-world/.venv/lib/python3.11/site-packages (from ruamel.yaml>=0.17.10->prance<24.0.0.0,>=23.6.21.0->semantic-kernel) (0.2.8)\n",
      "Requirement already satisfied: multidict<7.0,>=4.5 in /Users/matteolongo/projects/randomness/restaurant-review--anlyzer/sk-python-hello-world/.venv/lib/python3.11/site-packages (from aiohttp->openai<0.28.0,>=0.27.0->semantic-kernel) (6.0.4)\n",
      "Requirement already satisfied: async-timeout<5.0,>=4.0.0a3 in /Users/matteolongo/projects/randomness/restaurant-review--anlyzer/sk-python-hello-world/.venv/lib/python3.11/site-packages (from aiohttp->openai<0.28.0,>=0.27.0->semantic-kernel) (4.0.2)\n",
      "Requirement already satisfied: yarl<2.0,>=1.0 in /Users/matteolongo/projects/randomness/restaurant-review--anlyzer/sk-python-hello-world/.venv/lib/python3.11/site-packages (from aiohttp->openai<0.28.0,>=0.27.0->semantic-kernel) (1.9.2)\n",
      "Requirement already satisfied: frozenlist>=1.1.1 in /Users/matteolongo/projects/randomness/restaurant-review--anlyzer/sk-python-hello-world/.venv/lib/python3.11/site-packages (from aiohttp->openai<0.28.0,>=0.27.0->semantic-kernel) (1.3.3)\n",
      "Requirement already satisfied: aiosignal>=1.1.2 in /Users/matteolongo/projects/randomness/restaurant-review--anlyzer/sk-python-hello-world/.venv/lib/python3.11/site-packages (from aiohttp->openai<0.28.0,>=0.27.0->semantic-kernel) (1.3.1)\n",
      "Requirement already satisfied: MarkupSafe>=2.1.1 in /Users/matteolongo/projects/randomness/restaurant-review--anlyzer/sk-python-hello-world/.venv/lib/python3.11/site-packages (from werkzeug->openapi_core<0.19.0,>=0.18.0->semantic-kernel) (2.1.3)\n"
     ]
    }
   ],
   "source": [
    "!python -m pip install semantic-kernel"
   ]
  },
  {
   "cell_type": "markdown",
   "metadata": {},
   "source": [
    "Create a Skill that uses Native Functions"
   ]
  },
  {
   "cell_type": "code",
   "execution_count": 2,
   "metadata": {},
   "outputs": [],
   "source": [
    "import json\n",
    "from semantic_kernel.skill_definition import sk_function\n",
    "\n",
    "class ValidatorSkill:\n",
    "    \"\"\"\n",
    "    Description: Native Function: Validate model outputs\n",
    "    \"\"\"\n",
    "    @sk_function(\n",
    "        description=\"Validate JSON\",\n",
    "        name=\"ValidateJson\"\n",
    "    )\n",
    "    def validate_json(self, input: str) -> str:\n",
    "        try:\n",
    "            parsed_json = json.loads(input)\n",
    "            return input\n",
    "        except json.JSONDecodeError as e:\n",
    "            return f\"[ERROR]Invalid JSON generated.[/ERROR]\""
   ]
  },
  {
   "cell_type": "markdown",
   "metadata": {},
   "source": [
    "Initialize kernel"
   ]
  },
  {
   "cell_type": "code",
   "execution_count": 3,
   "metadata": {},
   "outputs": [
    {
     "data": {
      "text/plain": [
       "<semantic_kernel.kernel.Kernel at 0x11af96910>"
      ]
     },
     "execution_count": 3,
     "metadata": {},
     "output_type": "execute_result"
    }
   ],
   "source": [
    "import semantic_kernel as sk\n",
    "from semantic_kernel.connectors.ai.open_ai import OpenAIChatCompletion\n",
    "\n",
    "kernel = sk.Kernel()\n",
    "api_key, org_id = sk.openai_settings_from_dot_env()\n",
    "kernel.add_chat_service(\"chat-gpt\", OpenAIChatCompletion(\"gpt-3.5-turbo\", api_key, org_id))"
   ]
  },
  {
   "cell_type": "markdown",
   "metadata": {},
   "source": [
    "Create inline Semantic Function to generate random JSON about a topic via LLM\n",
    "The TOPIC will be provided as first argument to the function."
   ]
  },
  {
   "cell_type": "code",
   "execution_count": 4,
   "metadata": {},
   "outputs": [
    {
     "name": "stdout",
     "output_type": "stream",
     "text": [
      "{\"restaurants\": [\n",
      "  {\n",
      "    \"name\": \"Restaurant A\",\n",
      "    \"location\": \"City A\",\n",
      "    \"cuisine\": \"Cuisine A\",\n",
      "    \"rating\": 4.5,\n",
      "    \"price_range\": \"$$$\"\n",
      "  },\n",
      "  {\n",
      "    \"name\": \"Restaurant B\",\n",
      "    \"location\": \"City B\",\n",
      "    \"cuisine\": \"Cuisine B\",\n",
      "    \"rating\": 4.2,\n",
      "    \"price_range\": \"$$\"\n",
      "  },\n",
      "  {\n",
      "    \"name\": \"Restaurant C\",\n",
      "    \"location\": \"City C\",\n",
      "    \"cuisine\": \"Cuisine C\",\n",
      "    \"rating\": 4.7,\n",
      "    \"price_range\": \"$$$\"\n",
      "  },\n",
      "  {\n",
      "    \"name\": \"Restaurant D\",\n",
      "    \"location\": \"City D\",\n",
      "    \"cuisine\": \"Cuisine D\",\n",
      "    \"rating\": 4.0,\n",
      "    \"price_range\": \"$\"\n",
      "  },\n",
      "  {\n",
      "    \"name\": \"Restaurant E\",\n",
      "    \"location\": \"City E\",\n",
      "    \"cuisine\": \"Cuisine E\",\n",
      "    \"rating\": 4.9,\n",
      "    \"price_range\": \"$$$\"\n",
      "  },\n",
      "  {\n",
      "    \"name\": \"Restaurant F\",\n",
      "    \"location\": \"City F\",\n",
      "    \"cuisine\": \"Cuisine F\",\n",
      "    \"rating\": 4.3,\n",
      "    \"price_range\": \"$$\"\n",
      "  },\n",
      "  {\n",
      "    \"name\": \"Restaurant G\",\n",
      "    \"location\": \"City G\",\n",
      "    \"cuisine\": \"Cuisine G\",\n",
      "    \"rating\": 4.6,\n",
      "    \"price_range\": \"$$$\"\n",
      "  },\n",
      "  {\n",
      "    \"name\": \"Restaurant H\",\n",
      "    \"location\": \"City H\",\n",
      "    \"cuisine\": \"Cuisine H\",\n",
      "    \"rating\": 4.1,\n",
      "    \"price_range\": \"$\"\n",
      "  },\n",
      "  {\n",
      "    \"name\": \"Restaurant I\",\n",
      "    \"location\": \"City I\",\n",
      "    \"cuisine\": \"Cuisine I\",\n",
      "    \"rating\": 4.8,\n",
      "    \"price_range\": \"$$$\"\n",
      "  },\n",
      "  {\n",
      "    \"name\": \"Restaurant J\",\n",
      "    \"location\": \"City J\",\n",
      "    \"cuisine\": \"Cuisine J\",\n",
      "    \"rating\": 4.4,\n",
      "    \"price_range\": \"$$\"\n",
      "  }\n",
      "]}\n"
     ]
    }
   ],
   "source": [
    "sk_prompt =\"generate a random json array with at most 10 elements and 5 properties each, each payload about {{$INPUT}}, the output must be a complete a parsable json, max lenght 512, only print the output\"\n",
    "\n",
    "random_json_function = kernel.create_semantic_function(sk_prompt, 'json', 'myrandom', 'generate random json about a topic',512)\n",
    "res = await random_json_function.invoke_async(\"restaurant\")\n",
    "print(res.result)"
   ]
  },
  {
   "cell_type": "markdown",
   "metadata": {},
   "source": [
    "Now we will register the ValidatorSkill into the kernel\n",
    "Then we will extract the ValidateJson function from the skill and use it to validate the LLM output"
   ]
  },
  {
   "cell_type": "code",
   "execution_count": 5,
   "metadata": {},
   "outputs": [
    {
     "name": "stdout",
     "output_type": "stream",
     "text": [
      "{\"restaurants\": [\n",
      "  {\n",
      "    \"name\": \"Restaurant A\",\n",
      "    \"location\": \"City A\",\n",
      "    \"cuisine\": \"Cuisine A\",\n",
      "    \"rating\": 4.5,\n",
      "    \"price_range\": \"$$$\"\n",
      "  },\n",
      "  {\n",
      "    \"name\": \"Restaurant B\",\n",
      "    \"location\": \"City B\",\n",
      "    \"cuisine\": \"Cuisine B\",\n",
      "    \"rating\": 4.2,\n",
      "    \"price_range\": \"$$\"\n",
      "  },\n",
      "  {\n",
      "    \"name\": \"Restaurant C\",\n",
      "    \"location\": \"City C\",\n",
      "    \"cuisine\": \"Cuisine C\",\n",
      "    \"rating\": 4.7,\n",
      "    \"price_range\": \"$$$\"\n",
      "  },\n",
      "  {\n",
      "    \"name\": \"Restaurant D\",\n",
      "    \"location\": \"City D\",\n",
      "    \"cuisine\": \"Cuisine D\",\n",
      "    \"rating\": 4.0,\n",
      "    \"price_range\": \"$\"\n",
      "  },\n",
      "  {\n",
      "    \"name\": \"Restaurant E\",\n",
      "    \"location\": \"City E\",\n",
      "    \"cuisine\": \"Cuisine E\",\n",
      "    \"rating\": 4.9,\n",
      "    \"price_range\": \"$$$\"\n",
      "  },\n",
      "  {\n",
      "    \"name\": \"Restaurant F\",\n",
      "    \"location\": \"City F\",\n",
      "    \"cuisine\": \"Cuisine F\",\n",
      "    \"rating\": 4.3,\n",
      "    \"price_range\": \"$$\"\n",
      "  },\n",
      "  {\n",
      "    \"name\": \"Restaurant G\",\n",
      "    \"location\": \"City G\",\n",
      "    \"cuisine\": \"Cuisine G\",\n",
      "    \"rating\": 4.6,\n",
      "    \"price_range\": \"$$$\"\n",
      "  },\n",
      "  {\n",
      "    \"name\": \"Restaurant H\",\n",
      "    \"location\": \"City H\",\n",
      "    \"cuisine\": \"Cuisine H\",\n",
      "    \"rating\": 4.1,\n",
      "    \"price_range\": \"$\"\n",
      "  },\n",
      "  {\n",
      "    \"name\": \"Restaurant I\",\n",
      "    \"location\": \"City I\",\n",
      "    \"cuisine\": \"Cuisine I\",\n",
      "    \"rating\": 4.8,\n",
      "    \"price_range\": \"$$$\"\n",
      "  },\n",
      "  {\n",
      "    \"name\": \"Restaurant J\",\n",
      "    \"location\": \"City J\",\n",
      "    \"cuisine\": \"Cuisine J\",\n",
      "    \"rating\": 4.4,\n",
      "    \"price_range\": \"$$\"\n",
      "  }\n",
      "]}\n"
     ]
    }
   ],
   "source": [
    "validator_skill = kernel.import_skill(ValidatorSkill(), 'ValidatorSkill')\n",
    "json_validator_function = validator_skill[\"ValidateJson\"]\n",
    "\n",
    "validation_result = json_validator_function(res.result)\n",
    "print(validation_result.result)\n",
    "\n",
    "# Add something to break the parses\n",
    "#validation_result = json_validator_function(res.result)\n",
    "#print(validation_result.result)"
   ]
  }
 ],
 "metadata": {
  "kernelspec": {
   "display_name": ".venv",
   "language": "python",
   "name": "python3"
  },
  "language_info": {
   "codemirror_mode": {
    "name": "ipython",
    "version": 3
   },
   "file_extension": ".py",
   "mimetype": "text/x-python",
   "name": "python",
   "nbconvert_exporter": "python",
   "pygments_lexer": "ipython3",
   "version": "3.11.5"
  }
 },
 "nbformat": 4,
 "nbformat_minor": 2
}
