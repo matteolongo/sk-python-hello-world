{
 "cells": [
  {
   "cell_type": "markdown",
   "id": "99a80181",
   "metadata": {},
   "source": [
    "# Introduction to the Planner\n",
    "\n",
    "The Planner is one of the fundamental concepts of the Semantic Kernel.\n",
    "\n",
    "It makes use of the collection of native and semantic functions that have been registered to the kernel and using AI, will formulate a plan to execute the given ask.\n",
    "\n",
    "From our own testing, planner works best with more powerful models like `gpt4` but sometimes you might get working plans with cheaper models like `gpt-35-turbo`.\n",
    "\n",
    "Read more about planner [here](https://aka.ms/sk/concepts/planner)"
   ]
  },
  {
   "cell_type": "code",
   "execution_count": 156,
   "id": "07eb35d2",
   "metadata": {},
   "outputs": [
    {
     "name": "stderr",
     "output_type": "stream",
     "text": [
      "27885.54s - pydevd: Sending message related to process being replaced timed-out after 5 seconds\n"
     ]
    },
    {
     "name": "stdout",
     "output_type": "stream",
     "text": [
      "Requirement already satisfied: semantic-kernel==0.3.14.dev0 in /Users/matteolongo/projects/randomness/restaurant-review--anlyzer/sk-python-hello-world/venv/lib/python3.10/site-packages (0.3.14.dev0)\n",
      "Requirement already satisfied: openai<0.29,>=0.27 in /usr/local/lib/python3.10/site-packages (from semantic-kernel==0.3.14.dev0) (0.27.6)\n",
      "Requirement already satisfied: motor<4.0.0,>=3.3.1 in /Users/matteolongo/projects/randomness/restaurant-review--anlyzer/sk-python-hello-world/venv/lib/python3.10/site-packages (from semantic-kernel==0.3.14.dev0) (3.3.1)\n",
      "Requirement already satisfied: numpy<2.0.0,>=1.24.2 in /usr/local/lib/python3.10/site-packages (from semantic-kernel==0.3.14.dev0) (1.24.3)\n",
      "Requirement already satisfied: regex<2024.0.0,>=2023.6.3 in /Users/matteolongo/projects/randomness/restaurant-review--anlyzer/sk-python-hello-world/venv/lib/python3.10/site-packages (from semantic-kernel==0.3.14.dev0) (2023.10.3)\n",
      "Requirement already satisfied: prance<24.0.0.0,>=23.6.21.0 in /Users/matteolongo/projects/randomness/restaurant-review--anlyzer/sk-python-hello-world/venv/lib/python3.10/site-packages (from semantic-kernel==0.3.14.dev0) (23.6.21.0)\n",
      "Requirement already satisfied: python-dotenv==1.0.0 in /Users/matteolongo/projects/randomness/restaurant-review--anlyzer/sk-python-hello-world/venv/lib/python3.10/site-packages (from semantic-kernel==0.3.14.dev0) (1.0.0)\n",
      "Requirement already satisfied: openapi_core<0.19.0,>=0.18.0 in /Users/matteolongo/projects/randomness/restaurant-review--anlyzer/sk-python-hello-world/venv/lib/python3.10/site-packages (from semantic-kernel==0.3.14.dev0) (0.18.1)\n",
      "Requirement already satisfied: aiofiles<24.0.0,>=23.1.0 in /usr/local/lib/python3.10/site-packages (from semantic-kernel==0.3.14.dev0) (23.1.0)\n",
      "Requirement already satisfied: pydantic<2 in /Users/matteolongo/projects/randomness/restaurant-review--anlyzer/sk-python-hello-world/venv/lib/python3.10/site-packages (from semantic-kernel==0.3.14.dev0) (1.10.13)\n",
      "Requirement already satisfied: pymongo<5,>=4.5 in /Users/matteolongo/projects/randomness/restaurant-review--anlyzer/sk-python-hello-world/venv/lib/python3.10/site-packages (from motor<4.0.0,>=3.3.1->semantic-kernel==0.3.14.dev0) (4.6.0)\n",
      "Requirement already satisfied: aiohttp in /usr/local/lib/python3.10/site-packages (from openai<0.29,>=0.27->semantic-kernel==0.3.14.dev0) (3.8.3)\n",
      "Requirement already satisfied: requests>=2.20 in /Users/matteolongo/projects/randomness/restaurant-review--anlyzer/sk-python-hello-world/venv/lib/python3.10/site-packages (from openai<0.29,>=0.27->semantic-kernel==0.3.14.dev0) (2.31.0)\n",
      "Requirement already satisfied: tqdm in /usr/local/lib/python3.10/site-packages (from openai<0.29,>=0.27->semantic-kernel==0.3.14.dev0) (4.65.0)\n",
      "Requirement already satisfied: asgiref<4.0.0,>=3.6.0 in /Users/matteolongo/projects/randomness/restaurant-review--anlyzer/sk-python-hello-world/venv/lib/python3.10/site-packages (from openapi_core<0.19.0,>=0.18.0->semantic-kernel==0.3.14.dev0) (3.7.2)\n",
      "Requirement already satisfied: parse in /Users/matteolongo/projects/randomness/restaurant-review--anlyzer/sk-python-hello-world/venv/lib/python3.10/site-packages (from openapi_core<0.19.0,>=0.18.0->semantic-kernel==0.3.14.dev0) (1.19.1)\n",
      "Requirement already satisfied: openapi-schema-validator<0.7.0,>=0.6.0 in /Users/matteolongo/projects/randomness/restaurant-review--anlyzer/sk-python-hello-world/venv/lib/python3.10/site-packages (from openapi_core<0.19.0,>=0.18.0->semantic-kernel==0.3.14.dev0) (0.6.2)\n",
      "Requirement already satisfied: jsonschema-spec<0.3.0,>=0.2.3 in /Users/matteolongo/projects/randomness/restaurant-review--anlyzer/sk-python-hello-world/venv/lib/python3.10/site-packages (from openapi_core<0.19.0,>=0.18.0->semantic-kernel==0.3.14.dev0) (0.2.4)\n",
      "Requirement already satisfied: more-itertools in /usr/local/lib/python3.10/site-packages (from openapi_core<0.19.0,>=0.18.0->semantic-kernel==0.3.14.dev0) (10.1.0)\n",
      "Requirement already satisfied: isodate in /Users/matteolongo/projects/randomness/restaurant-review--anlyzer/sk-python-hello-world/venv/lib/python3.10/site-packages (from openapi_core<0.19.0,>=0.18.0->semantic-kernel==0.3.14.dev0) (0.6.1)\n",
      "Requirement already satisfied: jsonschema<5.0.0,>=4.18.0 in /Users/matteolongo/projects/randomness/restaurant-review--anlyzer/sk-python-hello-world/venv/lib/python3.10/site-packages (from openapi_core<0.19.0,>=0.18.0->semantic-kernel==0.3.14.dev0) (4.19.2)\n",
      "Requirement already satisfied: werkzeug in /usr/local/lib/python3.10/site-packages (from openapi_core<0.19.0,>=0.18.0->semantic-kernel==0.3.14.dev0) (2.3.3)\n",
      "Requirement already satisfied: openapi-spec-validator<0.7.0,>=0.6.0 in /Users/matteolongo/projects/randomness/restaurant-review--anlyzer/sk-python-hello-world/venv/lib/python3.10/site-packages (from openapi_core<0.19.0,>=0.18.0->semantic-kernel==0.3.14.dev0) (0.6.0)\n",
      "Requirement already satisfied: six~=1.15 in /usr/local/lib/python3.10/site-packages (from prance<24.0.0.0,>=23.6.21.0->semantic-kernel==0.3.14.dev0) (1.16.0)\n",
      "Requirement already satisfied: ruamel.yaml>=0.17.10 in /Users/matteolongo/projects/randomness/restaurant-review--anlyzer/sk-python-hello-world/venv/lib/python3.10/site-packages (from prance<24.0.0.0,>=23.6.21.0->semantic-kernel==0.3.14.dev0) (0.18.5)\n",
      "Requirement already satisfied: packaging>=21.3 in /Users/matteolongo/Library/Python/3.10/lib/python/site-packages (from prance<24.0.0.0,>=23.6.21.0->semantic-kernel==0.3.14.dev0) (21.3)\n",
      "Requirement already satisfied: chardet>=3.0 in /Users/matteolongo/projects/randomness/restaurant-review--anlyzer/sk-python-hello-world/venv/lib/python3.10/site-packages (from prance<24.0.0.0,>=23.6.21.0->semantic-kernel==0.3.14.dev0) (5.2.0)\n",
      "Requirement already satisfied: typing-extensions>=4.2.0 in /usr/local/lib/python3.10/site-packages (from pydantic<2->semantic-kernel==0.3.14.dev0) (4.5.0)\n",
      "Requirement already satisfied: referencing>=0.28.4 in /Users/matteolongo/projects/randomness/restaurant-review--anlyzer/sk-python-hello-world/venv/lib/python3.10/site-packages (from jsonschema<5.0.0,>=4.18.0->openapi_core<0.19.0,>=0.18.0->semantic-kernel==0.3.14.dev0) (0.30.2)\n",
      "Requirement already satisfied: rpds-py>=0.7.1 in /Users/matteolongo/projects/randomness/restaurant-review--anlyzer/sk-python-hello-world/venv/lib/python3.10/site-packages (from jsonschema<5.0.0,>=4.18.0->openapi_core<0.19.0,>=0.18.0->semantic-kernel==0.3.14.dev0) (0.12.0)\n",
      "Requirement already satisfied: attrs>=22.2.0 in /Users/matteolongo/projects/randomness/restaurant-review--anlyzer/sk-python-hello-world/venv/lib/python3.10/site-packages (from jsonschema<5.0.0,>=4.18.0->openapi_core<0.19.0,>=0.18.0->semantic-kernel==0.3.14.dev0) (23.1.0)\n",
      "Requirement already satisfied: jsonschema-specifications>=2023.03.6 in /Users/matteolongo/projects/randomness/restaurant-review--anlyzer/sk-python-hello-world/venv/lib/python3.10/site-packages (from jsonschema<5.0.0,>=4.18.0->openapi_core<0.19.0,>=0.18.0->semantic-kernel==0.3.14.dev0) (2023.7.1)\n",
      "Requirement already satisfied: pathable<0.5.0,>=0.4.1 in /Users/matteolongo/projects/randomness/restaurant-review--anlyzer/sk-python-hello-world/venv/lib/python3.10/site-packages (from jsonschema-spec<0.3.0,>=0.2.3->openapi_core<0.19.0,>=0.18.0->semantic-kernel==0.3.14.dev0) (0.4.3)\n",
      "Requirement already satisfied: PyYAML>=5.1 in /usr/local/lib/python3.10/site-packages (from jsonschema-spec<0.3.0,>=0.2.3->openapi_core<0.19.0,>=0.18.0->semantic-kernel==0.3.14.dev0) (6.0)\n",
      "Requirement already satisfied: rfc3339-validator in /Users/matteolongo/projects/randomness/restaurant-review--anlyzer/sk-python-hello-world/venv/lib/python3.10/site-packages (from openapi-schema-validator<0.7.0,>=0.6.0->openapi_core<0.19.0,>=0.18.0->semantic-kernel==0.3.14.dev0) (0.1.4)\n",
      "Requirement already satisfied: lazy-object-proxy<2.0.0,>=1.7.1 in /Users/matteolongo/projects/randomness/restaurant-review--anlyzer/sk-python-hello-world/venv/lib/python3.10/site-packages (from openapi-spec-validator<0.7.0,>=0.6.0->openapi_core<0.19.0,>=0.18.0->semantic-kernel==0.3.14.dev0) (1.9.0)\n",
      "Requirement already satisfied: pyparsing!=3.0.5,>=2.0.2 in /Users/matteolongo/Library/Python/3.10/lib/python/site-packages (from packaging>=21.3->prance<24.0.0.0,>=23.6.21.0->semantic-kernel==0.3.14.dev0) (3.0.9)\n",
      "Requirement already satisfied: dnspython<3.0.0,>=1.16.0 in /Users/matteolongo/projects/randomness/restaurant-review--anlyzer/sk-python-hello-world/venv/lib/python3.10/site-packages (from pymongo<5,>=4.5->motor<4.0.0,>=3.3.1->semantic-kernel==0.3.14.dev0) (2.4.2)\n",
      "Requirement already satisfied: charset-normalizer<4,>=2 in /usr/local/lib/python3.10/site-packages (from requests>=2.20->openai<0.29,>=0.27->semantic-kernel==0.3.14.dev0) (2.1.1)\n",
      "Requirement already satisfied: urllib3<3,>=1.21.1 in /usr/local/lib/python3.10/site-packages (from requests>=2.20->openai<0.29,>=0.27->semantic-kernel==0.3.14.dev0) (1.26.12)\n",
      "Requirement already satisfied: certifi>=2017.4.17 in /usr/local/lib/python3.10/site-packages (from requests>=2.20->openai<0.29,>=0.27->semantic-kernel==0.3.14.dev0) (2022.9.24)\n",
      "Requirement already satisfied: idna<4,>=2.5 in /usr/local/lib/python3.10/site-packages (from requests>=2.20->openai<0.29,>=0.27->semantic-kernel==0.3.14.dev0) (3.4)\n",
      "Requirement already satisfied: ruamel.yaml.clib>=0.2.7 in /Users/matteolongo/projects/randomness/restaurant-review--anlyzer/sk-python-hello-world/venv/lib/python3.10/site-packages (from ruamel.yaml>=0.17.10->prance<24.0.0.0,>=23.6.21.0->semantic-kernel==0.3.14.dev0) (0.2.8)\n",
      "Requirement already satisfied: yarl<2.0,>=1.0 in /usr/local/lib/python3.10/site-packages (from aiohttp->openai<0.29,>=0.27->semantic-kernel==0.3.14.dev0) (1.8.1)\n",
      "Requirement already satisfied: frozenlist>=1.1.1 in /usr/local/lib/python3.10/site-packages (from aiohttp->openai<0.29,>=0.27->semantic-kernel==0.3.14.dev0) (1.3.1)\n",
      "Requirement already satisfied: multidict<7.0,>=4.5 in /usr/local/lib/python3.10/site-packages (from aiohttp->openai<0.29,>=0.27->semantic-kernel==0.3.14.dev0) (6.0.2)\n",
      "Requirement already satisfied: async-timeout<5.0,>=4.0.0a3 in /usr/local/lib/python3.10/site-packages (from aiohttp->openai<0.29,>=0.27->semantic-kernel==0.3.14.dev0) (4.0.2)\n",
      "Requirement already satisfied: aiosignal>=1.1.2 in /usr/local/lib/python3.10/site-packages (from aiohttp->openai<0.29,>=0.27->semantic-kernel==0.3.14.dev0) (1.2.0)\n",
      "Requirement already satisfied: MarkupSafe>=2.1.1 in /usr/local/lib/python3.10/site-packages (from werkzeug->openapi_core<0.19.0,>=0.18.0->semantic-kernel==0.3.14.dev0) (2.1.2)\n",
      "\n",
      "\u001b[1m[\u001b[0m\u001b[34;49mnotice\u001b[0m\u001b[1;39;49m]\u001b[0m\u001b[39;49m A new release of pip available: \u001b[0m\u001b[31;49m22.3.1\u001b[0m\u001b[39;49m -> \u001b[0m\u001b[32;49m23.3.1\u001b[0m\n",
      "\u001b[1m[\u001b[0m\u001b[34;49mnotice\u001b[0m\u001b[1;39;49m]\u001b[0m\u001b[39;49m To update, run: \u001b[0m\u001b[32;49mpip install --upgrade pip\u001b[0m\n"
     ]
    }
   ],
   "source": [
    "!python -m pip install semantic-kernel==0.3.14.dev0"
   ]
  },
  {
   "cell_type": "code",
   "execution_count": 157,
   "id": "11e59885",
   "metadata": {},
   "outputs": [],
   "source": [
    "import semantic_kernel as sk\n",
    "from semantic_kernel.connectors.ai.open_ai import OpenAIChatCompletion, AzureChatCompletion\n",
    "\n",
    "kernel = sk.Kernel()\n",
    "\n",
    "useAzureOpenAI = False\n",
    "\n",
    "# Configure AI backend used by the kernel\n",
    "if useAzureOpenAI:\n",
    "    \n",
    "    deployment, api_key, endpoint = sk.azure_openai_settings_from_dot_env()\n",
    "    kernel.add_chat_service(\"gpt-3.5\", AzureChatCompletion(deployment, endpoint, api_key))\n",
    "else:\n",
    "    api_key, org_id = sk.openai_settings_from_dot_env()\n",
    "    kernel.add_chat_service(\"gpt-4\", OpenAIChatCompletion(\"gpt-3.5-turbo\", api_key, org_id))"
   ]
  },
  {
   "cell_type": "markdown",
   "id": "4ff28070",
   "metadata": {},
   "source": [
    "## It all begins with an ask"
   ]
  },
  {
   "cell_type": "code",
   "execution_count": 158,
   "id": "93bc6103",
   "metadata": {},
   "outputs": [],
   "source": [
    "ask = \"\"\"\n",
    "Tomorrow is Valentine's day. I need to come up with a few date ideas. She speaks French so write it in French.\n",
    "Convert the text to uppercase\"\"\""
   ]
  },
  {
   "cell_type": "markdown",
   "id": "a5d86739",
   "metadata": {},
   "source": [
    "### Providing skills to the planner\n",
    "The planner needs to know what skills are available to it. Here we'll give it access to the `SummarizeSkill` and `WriterSkill` we have defined on disk. This will include many semantic functions, of which the planner will intelligently choose a subset. \n",
    "\n",
    "You can also include native functions as well. Here we'll add the TextSkill."
   ]
  },
  {
   "cell_type": "code",
   "execution_count": 160,
   "id": "ca0e7604",
   "metadata": {},
   "outputs": [],
   "source": [
    "from semantic_kernel.core_skills.text_skill import TextSkill\n",
    "\n",
    "skills_directory = \"../skills/\"\n",
    "summarize_skill = kernel.import_semantic_skill_from_directory(skills_directory, \"SummarizeSkill\")\n",
    "writer_skill = kernel.import_semantic_skill_from_directory(skills_directory, \"WriterSkill\")\n",
    "text_skill = kernel.import_skill(TextSkill(), \"TextSkill\")"
   ]
  },
  {
   "cell_type": "markdown",
   "id": "deff5675",
   "metadata": {},
   "source": [
    "Define your ASK. What do you want the Kernel to do?"
   ]
  },
  {
   "cell_type": "markdown",
   "id": "eee6fe7b",
   "metadata": {},
   "source": [
    "# Basic Planner"
   ]
  },
  {
   "cell_type": "markdown",
   "id": "590a22f2",
   "metadata": {},
   "source": [
    " Let's start by taking a look at a basic planner. The `BasicPlanner` produces a JSON-based plan that aims to solve the provided ask sequentially and evaluated in order."
   ]
  },
  {
   "cell_type": "code",
   "execution_count": 162,
   "id": "20d35ed0",
   "metadata": {},
   "outputs": [],
   "source": [
    "from semantic_kernel.planning.basic_planner import BasicPlanner\n",
    "planner = BasicPlanner()"
   ]
  },
  {
   "cell_type": "code",
   "execution_count": 128,
   "id": "d5697c09",
   "metadata": {},
   "outputs": [],
   "source": [
    "basic_plan = await planner.create_plan_async(ask, kernel)"
   ]
  },
  {
   "cell_type": "code",
   "execution_count": 163,
   "id": "b425ba1e",
   "metadata": {},
   "outputs": [
    {
     "name": "stdout",
     "output_type": "stream",
     "text": [
      "{\n",
      "    \"input\": \"Valentine's Day Date Ideas\",\n",
      "    \"subtasks\": [\n",
      "        {\"function\": \"WriterSkill.Brainstorm\"},\n",
      "        {\"function\": \"WriterSkill.EmailTo\", \"args\": {\"recipient\": \"significant_other\"}},\n",
      "        {\"function\": \"WriterSkill.Translate\", \"args\": {\"language\": \"French\"}},\n",
      "        {\"function\": \"TextSkill.uppercase\"}\n",
      "    ]\n",
      "}\n"
     ]
    }
   ],
   "source": [
    "print(basic_plan.generated_plan)"
   ]
  },
  {
   "cell_type": "markdown",
   "id": "0f3a48f8",
   "metadata": {},
   "source": [
    "You can see that the Planner:\n",
    "- took the ask and converted it into an JSON-based plan \n",
    "- detailed how the AI would go about solving this task\n",
    "- used the skills that the Kernel has available to it\n",
    "\n",
    "The AI has determined which functions to call in order to fulfill the user ask.\n",
    "The output of each step of the plan becomes the input to the next function."
   ]
  },
  {
   "cell_type": "markdown",
   "id": "cd4df0c2",
   "metadata": {},
   "source": [
    "Let's also define an inline skill and have it be available to the Planner. Be sure to give it a function name and skill name."
   ]
  },
  {
   "cell_type": "code",
   "execution_count": 164,
   "id": "54422ba6",
   "metadata": {},
   "outputs": [],
   "source": [
    "sk_prompt = \"\"\"\n",
    "{{$input}}\n",
    "\n",
    "Rewrite the above in the style of Shakespeare.\n",
    "\"\"\"\n",
    "shakespeareFunction = kernel.create_semantic_function(sk_prompt, \"shakespeare\", \"ShakespeareSkill\",\n",
    "                                                      max_tokens=2000, temperature=0.8)"
   ]
  },
  {
   "cell_type": "markdown",
   "id": "5057cf9b",
   "metadata": {},
   "source": [
    "Let's update our ask using this new skill"
   ]
  },
  {
   "cell_type": "code",
   "execution_count": 165,
   "id": "a3161dcf",
   "metadata": {},
   "outputs": [],
   "source": [
    "ask = \"\"\"\n",
    "Tomorrow is Valentine's day. I need to come up with a few date ideas.\n",
    "She likes Shakespeare so write using his style.\"\"\"\n",
    "\n",
    "new_plan = await planner.create_plan_async(ask, kernel)"
   ]
  },
  {
   "cell_type": "code",
   "execution_count": 166,
   "id": "997462e8",
   "metadata": {},
   "outputs": [
    {
     "name": "stdout",
     "output_type": "stream",
     "text": [
      "{\n",
      "    \"input\": \"Valentine's Day Date Ideas\",\n",
      "    \"subtasks\": [\n",
      "        {\"function\": \"WriterSkill.Brainstorm\"},\n",
      "        {\"function\": \"ShakespeareSkill.shakespeare\"},\n",
      "        {\"function\": \"WriterSkill.EmailTo\", \"args\": {\"recipient\": \"significant_other\"}},\n",
      "        {\"function\": \"WriterSkill.Translate\", \"args\": {\"language\": \"French\"}}\n",
      "    ]\n",
      "}\n"
     ]
    }
   ],
   "source": [
    "print(new_plan.generated_plan)"
   ]
  },
  {
   "cell_type": "markdown",
   "id": "b67a052e",
   "metadata": {},
   "source": [
    "### Executing the plan"
   ]
  },
  {
   "cell_type": "markdown",
   "id": "3b839c90",
   "metadata": {},
   "source": [
    "Now that we have a plan, let's try to execute it! The Planner has a function called `execute_plan`."
   ]
  },
  {
   "cell_type": "code",
   "execution_count": 133,
   "id": "9384831a",
   "metadata": {},
   "outputs": [],
   "source": [
    "results = await planner.execute_plan_async(new_plan, kernel)"
   ]
  },
  {
   "cell_type": "code",
   "execution_count": 134,
   "id": "9192b186",
   "metadata": {},
   "outputs": [
    {
     "name": "stdout",
     "output_type": "stream",
     "text": [
      "1. A candlelit eve, bathed in romantic glow,\n",
      "   At a restaurant of grandeur, hearts aflutter shall go.\n",
      "   \n",
      "2. In a verdant meadow, by soft breeze kissed,\n",
      "   A picnic of heart-shaped sandwiches and champagne, we'll persist.\n",
      "   \n",
      "3. A day of spa, where bliss shall dwell,\n",
      "   Together, we'll relish, in pampering, our souls to sell.\n",
      "   \n",
      "4. A cooking class, where love's flavors shall arise,\n",
      "   A romantic dinner at home, we'll craft with passion in our eyes.\n",
      "   \n",
      "5. Ascend a scenic trail, hand in hand,\n",
      "   At the summit, a picnic awaits, amidst nature's grandstand.\n",
      "   \n",
      "6. A surprise date night, with a limo's embrace,\n",
      "   To a show or concert, we'll journey, wrapped in love's grace.\n",
      "   \n",
      "7. A night at home, with movies of ardor's tale,\n",
      "   Homemade popcorn in hand, hearts entwined, we won't fail.\n",
      "   \n",
      "8. A dance class, where steps of romance we'll learn,\n",
      "   Salsa or tango, our bodies entangled, love's fire shall burn.\n",
      "   \n",
      "9. A weekend's escape, to a mountain cabin we'll wend,\n",
      "   Cozy and secluded, love's essence, it shall attend.\n",
      "   \n",
      "10. A wine and cheese tasting, orchestrated by our hands,\n",
      "    At home, we'll revel, in each sip, love's symphony expands.\n"
     ]
    }
   ],
   "source": [
    "print(results)"
   ]
  },
  {
   "cell_type": "markdown",
   "id": "e8a9b6b7",
   "metadata": {},
   "source": [
    "# The Plan Object Model"
   ]
  },
  {
   "cell_type": "markdown",
   "id": "e50f8859",
   "metadata": {},
   "source": [
    "To build more advanced planners, we need to introduce a proper Plan object that can contain all the necessary state and information needed for high quality plans.\n",
    "\n",
    "To see what that object model is, look at (https://github.com/microsoft/semantic-kernel/blob/main/python/semantic_kernel/planning/plan.py)"
   ]
  },
  {
   "cell_type": "markdown",
   "id": "0a0cb2a2",
   "metadata": {},
   "source": [
    "# Sequential Planner"
   ]
  },
  {
   "cell_type": "markdown",
   "id": "a1c66d83",
   "metadata": {},
   "source": [
    "The sequential planner is an XML-based step-by-step planner. You can see the prompt used for it here (https://github.com/microsoft/semantic-kernel/blob/main/python/semantic_kernel/planning/sequential_planner/Skills/SequentialPlanning/skprompt.txt)"
   ]
  },
  {
   "cell_type": "code",
   "execution_count": 135,
   "id": "e2e90624",
   "metadata": {},
   "outputs": [],
   "source": [
    "from semantic_kernel.planning import SequentialPlanner\n",
    "planner = SequentialPlanner(kernel)"
   ]
  },
  {
   "cell_type": "code",
   "execution_count": 136,
   "id": "0d537981",
   "metadata": {},
   "outputs": [],
   "source": [
    "sequential_plan = await planner.create_plan_async(goal=ask)"
   ]
  },
  {
   "cell_type": "markdown",
   "id": "ee2f462b",
   "metadata": {},
   "source": [
    "To see the steps that the Sequential Planner will take, we can iterate over them and print their descriptions"
   ]
  },
  {
   "cell_type": "code",
   "execution_count": 137,
   "id": "e7007418",
   "metadata": {},
   "outputs": [
    {
     "name": "stdout",
     "output_type": "stream",
     "text": [
      "Given a goal or topic description generate a list of ideas : {'variables': {'input': ''}}\n",
      "Generic function, unknown purpose : {'variables': {'input': ''}}\n"
     ]
    }
   ],
   "source": [
    "for step in sequential_plan._steps:\n",
    "    print(step.description, \":\", step._state.__dict__)"
   ]
  },
  {
   "cell_type": "markdown",
   "id": "4db5f844",
   "metadata": {},
   "source": [
    "Let's ask the sequential planner to execute the plan."
   ]
  },
  {
   "cell_type": "code",
   "execution_count": 139,
   "id": "88411884",
   "metadata": {},
   "outputs": [],
   "source": [
    "result = await sequential_plan.invoke_async()"
   ]
  },
  {
   "cell_type": "code",
   "execution_count": 140,
   "id": "36d27aa0",
   "metadata": {},
   "outputs": [
    {
     "name": "stdout",
     "output_type": "stream",
     "text": [
      "1. Verily, a romantic candlelit dinner at a fancy eatery\n",
      "2. A picnic in the park, with heart-shaped bread and sweetmeats\n",
      "3. Forsooth, a day of indulgence at the spa, where couples are embraced and massaged\n",
      "4. Ascending a scenic trail, and partaking of a repast at its summit\n",
      "5. Gliding upon the icy surface, ice skates adorning our feet, and partaking of warm cocoa thereafter\n",
      "6. A night of cinema within the confines of our home, where romantic tales unfurl\n",
      "7. Embarking on a voyage through vineyards, sampling wines and savoring each sip\n",
      "8. Engaging in culinary instruction, together crafting a sumptuous feast\n",
      "9. Sailing upon a boat during the twilight hour, beholding the wondrous vista\n",
      "10. A night of mirth and games, seated at our humble abode, partaking of delectable treats and engaging in board games.\n"
     ]
    }
   ],
   "source": [
    "print(result)"
   ]
  },
  {
   "cell_type": "markdown",
   "id": "d6487c75",
   "metadata": {},
   "source": [
    "# Action Planner"
   ]
  },
  {
   "cell_type": "markdown",
   "id": "b045e26b",
   "metadata": {},
   "source": [
    "The action planner takes in a list of functions and the goal, and outputs a **single** function to use that is appropriate to meet that goal."
   ]
  },
  {
   "cell_type": "code",
   "execution_count": 141,
   "id": "5bfc0b9f",
   "metadata": {},
   "outputs": [],
   "source": [
    "from semantic_kernel.planning import ActionPlanner\n",
    "planner = ActionPlanner(kernel)"
   ]
  },
  {
   "cell_type": "markdown",
   "id": "53b1f296",
   "metadata": {},
   "source": [
    "Let's add more skills to the kernel"
   ]
  },
  {
   "cell_type": "code",
   "execution_count": 142,
   "id": "cc12642a",
   "metadata": {},
   "outputs": [
    {
     "data": {
      "text/plain": [
       "{'lowercase': <semantic_kernel.orchestration.sk_function.SKFunction at 0x127f5add0>,\n",
       " 'trim': <semantic_kernel.orchestration.sk_function.SKFunction at 0x127f5ae00>,\n",
       " 'trim_end': <semantic_kernel.orchestration.sk_function.SKFunction at 0x127f5ae90>,\n",
       " 'trim_start': <semantic_kernel.orchestration.sk_function.SKFunction at 0x127f5af20>,\n",
       " 'uppercase': <semantic_kernel.orchestration.sk_function.SKFunction at 0x127f5afb0>}"
      ]
     },
     "execution_count": 142,
     "metadata": {},
     "output_type": "execute_result"
    }
   ],
   "source": [
    "from semantic_kernel.core_skills import FileIOSkill, MathSkill, TextSkill, TimeSkill\n",
    "kernel.import_skill(MathSkill(), \"math\")\n",
    "kernel.import_skill(FileIOSkill(), \"fileIO\")\n",
    "kernel.import_skill(TimeSkill(), \"time\")\n",
    "kernel.import_skill(TextSkill(), \"text\")"
   ]
  },
  {
   "cell_type": "code",
   "execution_count": 143,
   "id": "b938dc0e",
   "metadata": {},
   "outputs": [],
   "source": [
    "ask = \"What is the sum of 110 and 990?\""
   ]
  },
  {
   "cell_type": "code",
   "execution_count": 144,
   "id": "3aafd268",
   "metadata": {},
   "outputs": [],
   "source": [
    "plan = await planner.create_plan_async(goal=ask)"
   ]
  },
  {
   "cell_type": "code",
   "execution_count": 145,
   "id": "42589835",
   "metadata": {},
   "outputs": [],
   "source": [
    "result = await plan.invoke_async()"
   ]
  },
  {
   "cell_type": "code",
   "execution_count": 146,
   "id": "dc75e7a9",
   "metadata": {},
   "outputs": [
    {
     "name": "stdout",
     "output_type": "stream",
     "text": [
      "1100\n"
     ]
    }
   ],
   "source": [
    "print(result)"
   ]
  },
  {
   "cell_type": "markdown",
   "id": "789b651a",
   "metadata": {},
   "source": [
    "# Stepwise Planner"
   ]
  },
  {
   "cell_type": "markdown",
   "id": "8a4bbcc3",
   "metadata": {},
   "source": [
    "Stepwise Planner is based off the paper from MRKL (Modular Reasoning, Knowledge and Language) and is similar to other papers like ReACT (Reasoning and Acting in Language Models). At the core, the stepwise planner allows for the AI to form \"thoughts\" and \"observations\" and execute actions based off those to achieve a user's goal. This continues until all required functions are complete and a final output is generated.\n",
    "\n",
    "See a video walkthrough of Stepwise Planner [here.](https://youtu.be/DG_Ge1v0c4Q?si=T1CHaAm1vV0mWRHu)"
   ]
  },
  {
   "cell_type": "code",
   "execution_count": 147,
   "id": "32839327",
   "metadata": {},
   "outputs": [],
   "source": [
    "from semantic_kernel.planning import StepwisePlanner\n",
    "from semantic_kernel.planning.stepwise_planner.stepwise_planner_config import (\n",
    "    StepwisePlannerConfig,\n",
    ")"
   ]
  },
  {
   "cell_type": "markdown",
   "id": "e0a00bde",
   "metadata": {},
   "source": [
    "Let's create a Bing Search native skill that we can pass in to the Kernel.\n",
    "\n",
    "Make sure you have a Bing Search API key in your `.env` file\n",
    "\n",
    "(https://www.microsoft.com/en-us/bing/apis/bing-web-search-api)"
   ]
  },
  {
   "cell_type": "code",
   "execution_count": 148,
   "id": "92fc5de8",
   "metadata": {},
   "outputs": [],
   "source": [
    "class WebSearchEngineSkill:\n",
    "    \"\"\"\n",
    "    A search engine skill.\n",
    "    \"\"\"\n",
    "    from semantic_kernel.orchestration.sk_context import SKContext\n",
    "    from semantic_kernel.skill_definition import sk_function, sk_function_context_parameter\n",
    "\n",
    "    def __init__(self, connector) -> None:\n",
    "        self._connector = connector\n",
    "\n",
    "    @sk_function(\n",
    "        description=\"Performs a web search for a given query\", name=\"searchAsync\"\n",
    "    )\n",
    "    @sk_function_context_parameter(\n",
    "        name=\"query\",\n",
    "        description=\"The search query\",\n",
    "    )\n",
    "    async def search_async(self, query: str, context: SKContext) -> str:\n",
    "        query = query or context.variables.get(\"query\")[1]\n",
    "        result = await self._connector.search_async(query, num_results=5, offset=0)\n",
    "        return str(result)"
   ]
  },
  {
   "cell_type": "code",
   "execution_count": 149,
   "id": "415f7876",
   "metadata": {},
   "outputs": [
    {
     "data": {
      "text/plain": [
       "{'searchAsync': <semantic_kernel.orchestration.sk_function.SKFunction at 0x127f23f10>}"
      ]
     },
     "execution_count": 149,
     "metadata": {},
     "output_type": "execute_result"
    }
   ],
   "source": [
    "from semantic_kernel.connectors.search_engine import BingConnector\n",
    "\n",
    "BING_API_KEY = sk.bing_search_settings_from_dot_env()\n",
    "connector = BingConnector(BING_API_KEY)\n",
    "kernel.import_skill(WebSearchEngineSkill(connector), skill_name=\"WebSearch\")"
   ]
  },
  {
   "cell_type": "markdown",
   "id": "effdf3ab",
   "metadata": {},
   "source": [
    "Let's also add a couple more skills"
   ]
  },
  {
   "cell_type": "code",
   "execution_count": 150,
   "id": "abe150e0",
   "metadata": {},
   "outputs": [
    {
     "data": {
      "text/plain": [
       "{'Add': <semantic_kernel.orchestration.sk_function.SKFunction at 0x127f58c70>,\n",
       " 'Subtract': <semantic_kernel.orchestration.sk_function.SKFunction at 0x127f5ac20>}"
      ]
     },
     "execution_count": 150,
     "metadata": {},
     "output_type": "execute_result"
    }
   ],
   "source": [
    "from semantic_kernel.core_skills.math_skill import MathSkill\n",
    "from semantic_kernel.core_skills.time_skill import TimeSkill\n",
    "\n",
    "kernel.import_skill(TimeSkill(), \"time\")\n",
    "kernel.import_skill(MathSkill(), \"math\")"
   ]
  },
  {
   "cell_type": "code",
   "execution_count": 151,
   "id": "06d08549",
   "metadata": {},
   "outputs": [],
   "source": [
    "planner = StepwisePlanner(\n",
    "    kernel, StepwisePlannerConfig(max_iterations=10, min_iteration_time_ms=1000)\n",
    ")"
   ]
  },
  {
   "cell_type": "markdown",
   "id": "50699ec3",
   "metadata": {},
   "source": [
    "Now let's do a more complicated ask that will require planner to make a call to Bing to get the latest information."
   ]
  },
  {
   "cell_type": "code",
   "execution_count": 152,
   "id": "596ade21",
   "metadata": {},
   "outputs": [],
   "source": [
    "ask = \"\"\"\n",
    "Tomorrow is Valentine's day. I need to come up with a few date ideas.\n",
    "She likes Shakespeare so write using his style.\"\"\"\n",
    "\n",
    "plan = planner.create_plan(goal=ask)"
   ]
  },
  {
   "cell_type": "code",
   "execution_count": 153,
   "id": "176988ac",
   "metadata": {},
   "outputs": [
    {
     "name": "stdout",
     "output_type": "stream",
     "text": [
      "Here are a few Shakespearean-style date ideas for Valentine's day:\n",
      "\n",
      "1. A fair and merry picnic in yon park\n",
      "2. Preparing a feast as one, in our humble abode\n",
      "3. Embarking on a nature's voyage, a hike to explore\n",
      "4. Venturing to a novel eatery, to taste foreign delights\n",
      "5. Paying homage to local culture, within a museum's halls\n",
      "6. Witnessing jesters and performers on stage, merry laughter abound\n",
      "7. Whirling and twirling, in a dance class of shared waltz\n",
      "8. Mounting noble steeds, or a tandem chariot of two wheels\n",
      "9. Reveling in cinema, a homemade spectacle of moving pictures\n",
      "10. Journeying through scenic realms, to a nearby hamlet or sandy shore.\n",
      "\n",
      "These ideas should make for a delightful and memorable Valentine's day celebration!\n"
     ]
    }
   ],
   "source": [
    "result = await plan.invoke_async()\n",
    "print(result)"
   ]
  },
  {
   "cell_type": "code",
   "execution_count": 154,
   "id": "d00c6f71",
   "metadata": {},
   "outputs": [
    {
     "name": "stdout",
     "output_type": "stream",
     "text": [
      "Here are a few Shakespearean-style date ideas for Valentine's day:\n",
      "\n",
      "1. A fair and merry picnic in yon park\n",
      "2. Preparing a feast as one, in our humble abode\n",
      "3. Embarking on a nature's voyage, a hike to explore\n",
      "4. Venturing to a novel eatery, to taste foreign delights\n",
      "5. Paying homage to local culture, within a museum's halls\n",
      "6. Witnessing jesters and performers on stage, merry laughter abound\n",
      "7. Whirling and twirling, in a dance class of shared waltz\n",
      "8. Mounting noble steeds, or a tandem chariot of two wheels\n",
      "9. Reveling in cinema, a homemade spectacle of moving pictures\n",
      "10. Journeying through scenic realms, to a nearby hamlet or sandy shore.\n",
      "\n",
      "These ideas should make for a delightful and memorable Valentine's day celebration!\n"
     ]
    }
   ],
   "source": [
    "print(result)"
   ]
  },
  {
   "cell_type": "markdown",
   "id": "cb40370d",
   "metadata": {},
   "source": [
    "Let's see the steps that the AI took to get to the answer."
   ]
  },
  {
   "cell_type": "code",
   "execution_count": 155,
   "id": "7159ca1b",
   "metadata": {},
   "outputs": [
    {
     "name": "stdout",
     "output_type": "stream",
     "text": [
      "Step: 0\n",
      "Description: Execute a plan\n",
      "Function: StepwisePlanner.ExecutePlan\n",
      "  Output:\n",
      " This was my previous work (but they haven't seen any of it! They only see what I return as final answer):\n",
      "  [THOUGHT]\n",
      "  To come up with date ideas, I can use the WriterSkill.Brainstorm function to generate a list of ideas. Then, I can use the ShakespeareSkill.shakespeare function to write the ideas in Shakespearean style.\n",
      "  [ACTION]\n",
      "  {\"action\": \"WriterSkill.Brainstorm\", \"action_variables\": {\"input\": \"date ideas\"}}\n",
      "  [OBSERVATION]\n",
      "  1. Picnic in the park\n",
      "  2. Cooking a meal together at home\n",
      "  3. Going for a hike and exploring nature\n",
      "  4. Trying out a new restaurant or cuisine\n",
      "  5. Visiting a local museum or art gallery\n",
      "  6. Going to a comedy show or live performance\n",
      "  7. Taking a dance class together\n",
      "  8. Going on a bike ride or renting a tandem bike\n",
      "  9. Having a movie night with a homemade cinema setup\n",
      "  10. Going on a scenic drive to a nearby town or beach\n",
      "  \n",
      "  [THOUGHT]\n",
      "  Now that I have a list of date ideas, I can use the ShakespeareSkill.shakespeare function to write them in Shakespearean style.\n",
      "  [ACTION]\n",
      "  {\"action\": \"ShakespeareSkill.shakespeare\", \"action_variables\": {\"input\": \"1. Picnic in the park\\n2. Cooking a meal together at home\\n3. Going for a hike and exploring nature\\n4. Trying out a new restaurant or cuisine\\n5. Visiting a local museum or art gallery\\n6. Going to a comedy show or live performance\\n7. Taking a dance class together\\n8. Going on a bike ride or renting a tandem bike\\n9. Having a movie night with a homemade cinema setup\\n10. Going on a scenic drive to a nearby town or beach\"}}\n",
      "  [OBSERVATION]\n",
      "  1. A fair and merry picnic in yon park\n",
      "  2. Preparing a feast as one, in our humble abode\n",
      "  3. Embarking on a nature's voyage, a hike to explore\n",
      "  4. Venturing to a novel eatery, to taste foreign delights\n",
      "  5. Paying homage to local culture, within a museum's halls\n",
      "  6. Witnessing jesters and performers on stage, merry laughter abound\n",
      "  7. Whirling and twirling, in a dance class of shared waltz\n",
      "  8. Mounting noble steeds, or a tandem chariot of two wheels\n",
      "  9. Reveling in cinema, a homemade spectacle of moving pictures\n",
      "  10. Journeying through scenic realms, to a nearby hamlet or sandy shore.\n",
      "  [THOUGHT]\n",
      "  None\n"
     ]
    }
   ],
   "source": [
    "for index, step in enumerate(plan._steps):\n",
    "    print(\"Step:\", index)\n",
    "    print(\"Description:\",step.description)\n",
    "    print(\"Function:\", step.skill_name + \".\" + step._function.name)\n",
    "    if len(step._outputs) > 0:\n",
    "        print( \"  Output:\\n\", str.replace(result[step._outputs[0]],\"\\n\", \"\\n  \"))"
   ]
  },
  {
   "cell_type": "code",
   "execution_count": null,
   "id": "4652ac81",
   "metadata": {},
   "outputs": [],
   "source": []
  }
 ],
 "metadata": {
  "kernelspec": {
   "display_name": "Python 3 (ipykernel)",
   "language": "python",
   "name": "python3"
  },
  "language_info": {
   "codemirror_mode": {
    "name": "ipython",
    "version": 3
   },
   "file_extension": ".py",
   "mimetype": "text/x-python",
   "name": "python",
   "nbconvert_exporter": "python",
   "pygments_lexer": "ipython3",
   "version": "3.10.13"
  }
 },
 "nbformat": 4,
 "nbformat_minor": 5
}
