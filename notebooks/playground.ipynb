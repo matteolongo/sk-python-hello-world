{
 "cells": [
  {
   "cell_type": "markdown",
   "metadata": {},
   "source": [
    "### Restaurant Review Analyzer\n",
    "\n",
    "Problem:\n",
    "\n",
    "Given the vast number of restaurants and the various reviews they receive, create a system that categorizes reviews based on their semantic meaning (e.g., ambiance, food quality, service, value for money).\n",
    "\n",
    "\n",
    "\n",
    "Skills/Functions Needed:\n",
    "- **extractReviewEssence()**: Utilize semantic kernel plugins to derive the core sentiment or subject from reviews.\n",
    "- **categorizeReview()**: Use the semantic kernel skill to determine which category a review belongs to.\n",
    "- **planReviewAnalysis()**: With the semantic kernel Planner, design a flow to efficiently process and categorize bulk reviews."
   ]
  },
  {
   "cell_type": "code",
   "execution_count": 1,
   "metadata": {
    "ExecuteTime": {
     "start_time": "2023-11-03T23:32:45.292556Z"
    }
   },
   "outputs": [
    {
     "name": "stdout",
     "output_type": "stream",
     "text": [
      "Requirement already satisfied: semantic-kernel in /Users/matteolongo/projects/randomness/restaurant-review--anlyzer/sk-python-hello-world/.venv/lib/python3.11/site-packages (0.3.10.dev0)\n",
      "Requirement already satisfied: microsoft-bing-websearch in /Users/matteolongo/projects/randomness/restaurant-review--anlyzer/sk-python-hello-world/.venv/lib/python3.11/site-packages (1.0.0)\n",
      "Requirement already satisfied: azure-cognitiveservices-search-websearch in /Users/matteolongo/projects/randomness/restaurant-review--anlyzer/sk-python-hello-world/.venv/lib/python3.11/site-packages (2.0.0)\n",
      "Requirement already satisfied: aiofiles<24.0.0,>=23.1.0 in /Users/matteolongo/projects/randomness/restaurant-review--anlyzer/sk-python-hello-world/.venv/lib/python3.11/site-packages (from semantic-kernel) (23.1.0)\n",
      "Requirement already satisfied: numpy<2.0.0,>=1.24.2 in /Users/matteolongo/projects/randomness/restaurant-review--anlyzer/sk-python-hello-world/.venv/lib/python3.11/site-packages (from semantic-kernel) (1.24.3)\n",
      "Requirement already satisfied: openai<0.28.0,>=0.27.0 in /Users/matteolongo/projects/randomness/restaurant-review--anlyzer/sk-python-hello-world/.venv/lib/python3.11/site-packages (from semantic-kernel) (0.27.6)\n",
      "Requirement already satisfied: openapi_core<0.19.0,>=0.18.0 in /Users/matteolongo/projects/randomness/restaurant-review--anlyzer/sk-python-hello-world/.venv/lib/python3.11/site-packages (from semantic-kernel) (0.18.1)\n",
      "Requirement already satisfied: prance<24.0.0.0,>=23.6.21.0 in /Users/matteolongo/projects/randomness/restaurant-review--anlyzer/sk-python-hello-world/.venv/lib/python3.11/site-packages (from semantic-kernel) (23.6.21.0)\n",
      "Requirement already satisfied: pydantic<2 in /Users/matteolongo/projects/randomness/restaurant-review--anlyzer/sk-python-hello-world/.venv/lib/python3.11/site-packages (from semantic-kernel) (1.10.13)\n",
      "Requirement already satisfied: python-dotenv==1.0.0 in /Users/matteolongo/projects/randomness/restaurant-review--anlyzer/sk-python-hello-world/.venv/lib/python3.11/site-packages (from semantic-kernel) (1.0.0)\n",
      "Requirement already satisfied: regex<2024.0.0,>=2023.6.3 in /Users/matteolongo/projects/randomness/restaurant-review--anlyzer/sk-python-hello-world/.venv/lib/python3.11/site-packages (from semantic-kernel) (2023.10.3)\n",
      "Requirement already satisfied: msrest>=0.5.0 in /Users/matteolongo/projects/randomness/restaurant-review--anlyzer/sk-python-hello-world/.venv/lib/python3.11/site-packages (from microsoft-bing-websearch) (0.7.1)\n",
      "Requirement already satisfied: msrestazure<2.0.0,>=0.4.32 in /Users/matteolongo/projects/randomness/restaurant-review--anlyzer/sk-python-hello-world/.venv/lib/python3.11/site-packages (from microsoft-bing-websearch) (0.6.4)\n",
      "Requirement already satisfied: azure-common~=1.1 in /Users/matteolongo/projects/randomness/restaurant-review--anlyzer/sk-python-hello-world/.venv/lib/python3.11/site-packages (from microsoft-bing-websearch) (1.1.28)\n",
      "Requirement already satisfied: azure-core>=1.24.0 in /Users/matteolongo/projects/randomness/restaurant-review--anlyzer/sk-python-hello-world/.venv/lib/python3.11/site-packages (from msrest>=0.5.0->microsoft-bing-websearch) (1.29.5)\n",
      "Requirement already satisfied: certifi>=2017.4.17 in /Users/matteolongo/projects/randomness/restaurant-review--anlyzer/sk-python-hello-world/.venv/lib/python3.11/site-packages (from msrest>=0.5.0->microsoft-bing-websearch) (2023.7.22)\n",
      "Requirement already satisfied: isodate>=0.6.0 in /Users/matteolongo/projects/randomness/restaurant-review--anlyzer/sk-python-hello-world/.venv/lib/python3.11/site-packages (from msrest>=0.5.0->microsoft-bing-websearch) (0.6.1)\n",
      "Requirement already satisfied: requests-oauthlib>=0.5.0 in /Users/matteolongo/projects/randomness/restaurant-review--anlyzer/sk-python-hello-world/.venv/lib/python3.11/site-packages (from msrest>=0.5.0->microsoft-bing-websearch) (1.3.1)\n",
      "Requirement already satisfied: requests~=2.16 in /Users/matteolongo/projects/randomness/restaurant-review--anlyzer/sk-python-hello-world/.venv/lib/python3.11/site-packages (from msrest>=0.5.0->microsoft-bing-websearch) (2.31.0)\n",
      "Requirement already satisfied: adal<2.0.0,>=0.6.0 in /Users/matteolongo/projects/randomness/restaurant-review--anlyzer/sk-python-hello-world/.venv/lib/python3.11/site-packages (from msrestazure<2.0.0,>=0.4.32->microsoft-bing-websearch) (1.2.7)\n",
      "Requirement already satisfied: six in /Users/matteolongo/projects/randomness/restaurant-review--anlyzer/sk-python-hello-world/.venv/lib/python3.11/site-packages (from msrestazure<2.0.0,>=0.4.32->microsoft-bing-websearch) (1.16.0)\n",
      "Requirement already satisfied: tqdm in /Users/matteolongo/projects/randomness/restaurant-review--anlyzer/sk-python-hello-world/.venv/lib/python3.11/site-packages (from openai<0.28.0,>=0.27.0->semantic-kernel) (4.65.0)\n",
      "Requirement already satisfied: aiohttp in /Users/matteolongo/projects/randomness/restaurant-review--anlyzer/sk-python-hello-world/.venv/lib/python3.11/site-packages (from openai<0.28.0,>=0.27.0->semantic-kernel) (3.8.5)\n",
      "Requirement already satisfied: asgiref<4.0.0,>=3.6.0 in /Users/matteolongo/projects/randomness/restaurant-review--anlyzer/sk-python-hello-world/.venv/lib/python3.11/site-packages (from openapi_core<0.19.0,>=0.18.0->semantic-kernel) (3.7.2)\n",
      "Requirement already satisfied: jsonschema<5.0.0,>=4.18.0 in /Users/matteolongo/projects/randomness/restaurant-review--anlyzer/sk-python-hello-world/.venv/lib/python3.11/site-packages (from openapi_core<0.19.0,>=0.18.0->semantic-kernel) (4.19.2)\n",
      "Requirement already satisfied: jsonschema-spec<0.3.0,>=0.2.3 in /Users/matteolongo/projects/randomness/restaurant-review--anlyzer/sk-python-hello-world/.venv/lib/python3.11/site-packages (from openapi_core<0.19.0,>=0.18.0->semantic-kernel) (0.2.4)\n",
      "Requirement already satisfied: more-itertools in /Users/matteolongo/projects/randomness/restaurant-review--anlyzer/sk-python-hello-world/.venv/lib/python3.11/site-packages (from openapi_core<0.19.0,>=0.18.0->semantic-kernel) (10.1.0)\n",
      "Requirement already satisfied: openapi-schema-validator<0.7.0,>=0.6.0 in /Users/matteolongo/projects/randomness/restaurant-review--anlyzer/sk-python-hello-world/.venv/lib/python3.11/site-packages (from openapi_core<0.19.0,>=0.18.0->semantic-kernel) (0.6.2)\n",
      "Requirement already satisfied: openapi-spec-validator<0.7.0,>=0.6.0 in /Users/matteolongo/projects/randomness/restaurant-review--anlyzer/sk-python-hello-world/.venv/lib/python3.11/site-packages (from openapi_core<0.19.0,>=0.18.0->semantic-kernel) (0.6.0)\n",
      "Requirement already satisfied: parse in /Users/matteolongo/projects/randomness/restaurant-review--anlyzer/sk-python-hello-world/.venv/lib/python3.11/site-packages (from openapi_core<0.19.0,>=0.18.0->semantic-kernel) (1.19.1)\n",
      "Requirement already satisfied: werkzeug in /Users/matteolongo/projects/randomness/restaurant-review--anlyzer/sk-python-hello-world/.venv/lib/python3.11/site-packages (from openapi_core<0.19.0,>=0.18.0->semantic-kernel) (3.0.1)\n",
      "Requirement already satisfied: chardet>=3.0 in /Users/matteolongo/projects/randomness/restaurant-review--anlyzer/sk-python-hello-world/.venv/lib/python3.11/site-packages (from prance<24.0.0.0,>=23.6.21.0->semantic-kernel) (5.2.0)\n",
      "Requirement already satisfied: ruamel.yaml>=0.17.10 in /Users/matteolongo/projects/randomness/restaurant-review--anlyzer/sk-python-hello-world/.venv/lib/python3.11/site-packages (from prance<24.0.0.0,>=23.6.21.0->semantic-kernel) (0.18.5)\n",
      "Requirement already satisfied: packaging>=21.3 in /Users/matteolongo/projects/randomness/restaurant-review--anlyzer/sk-python-hello-world/.venv/lib/python3.11/site-packages (from prance<24.0.0.0,>=23.6.21.0->semantic-kernel) (23.1)\n",
      "Requirement already satisfied: typing-extensions>=4.2.0 in /Users/matteolongo/projects/randomness/restaurant-review--anlyzer/sk-python-hello-world/.venv/lib/python3.11/site-packages (from pydantic<2->semantic-kernel) (4.8.0)\n",
      "Requirement already satisfied: PyJWT<3,>=1.0.0 in /Users/matteolongo/projects/randomness/restaurant-review--anlyzer/sk-python-hello-world/.venv/lib/python3.11/site-packages (from adal<2.0.0,>=0.6.0->msrestazure<2.0.0,>=0.4.32->microsoft-bing-websearch) (2.8.0)\n",
      "Requirement already satisfied: python-dateutil<3,>=2.1.0 in /Users/matteolongo/projects/randomness/restaurant-review--anlyzer/sk-python-hello-world/.venv/lib/python3.11/site-packages (from adal<2.0.0,>=0.6.0->msrestazure<2.0.0,>=0.4.32->microsoft-bing-websearch) (2.8.2)\n",
      "Requirement already satisfied: cryptography>=1.1.0 in /Users/matteolongo/projects/randomness/restaurant-review--anlyzer/sk-python-hello-world/.venv/lib/python3.11/site-packages (from adal<2.0.0,>=0.6.0->msrestazure<2.0.0,>=0.4.32->microsoft-bing-websearch) (41.0.5)\n",
      "Requirement already satisfied: attrs>=22.2.0 in /Users/matteolongo/projects/randomness/restaurant-review--anlyzer/sk-python-hello-world/.venv/lib/python3.11/site-packages (from jsonschema<5.0.0,>=4.18.0->openapi_core<0.19.0,>=0.18.0->semantic-kernel) (23.1.0)\n",
      "Requirement already satisfied: jsonschema-specifications>=2023.03.6 in /Users/matteolongo/projects/randomness/restaurant-review--anlyzer/sk-python-hello-world/.venv/lib/python3.11/site-packages (from jsonschema<5.0.0,>=4.18.0->openapi_core<0.19.0,>=0.18.0->semantic-kernel) (2023.7.1)\n",
      "Requirement already satisfied: referencing>=0.28.4 in /Users/matteolongo/projects/randomness/restaurant-review--anlyzer/sk-python-hello-world/.venv/lib/python3.11/site-packages (from jsonschema<5.0.0,>=4.18.0->openapi_core<0.19.0,>=0.18.0->semantic-kernel) (0.30.2)\n",
      "Requirement already satisfied: rpds-py>=0.7.1 in /Users/matteolongo/projects/randomness/restaurant-review--anlyzer/sk-python-hello-world/.venv/lib/python3.11/site-packages (from jsonschema<5.0.0,>=4.18.0->openapi_core<0.19.0,>=0.18.0->semantic-kernel) (0.10.6)\n",
      "Requirement already satisfied: PyYAML>=5.1 in /Users/matteolongo/projects/randomness/restaurant-review--anlyzer/sk-python-hello-world/.venv/lib/python3.11/site-packages (from jsonschema-spec<0.3.0,>=0.2.3->openapi_core<0.19.0,>=0.18.0->semantic-kernel) (6.0.1)\n",
      "Requirement already satisfied: pathable<0.5.0,>=0.4.1 in /Users/matteolongo/projects/randomness/restaurant-review--anlyzer/sk-python-hello-world/.venv/lib/python3.11/site-packages (from jsonschema-spec<0.3.0,>=0.2.3->openapi_core<0.19.0,>=0.18.0->semantic-kernel) (0.4.3)\n",
      "Requirement already satisfied: rfc3339-validator in /Users/matteolongo/projects/randomness/restaurant-review--anlyzer/sk-python-hello-world/.venv/lib/python3.11/site-packages (from openapi-schema-validator<0.7.0,>=0.6.0->openapi_core<0.19.0,>=0.18.0->semantic-kernel) (0.1.4)\n",
      "Requirement already satisfied: lazy-object-proxy<2.0.0,>=1.7.1 in /Users/matteolongo/projects/randomness/restaurant-review--anlyzer/sk-python-hello-world/.venv/lib/python3.11/site-packages (from openapi-spec-validator<0.7.0,>=0.6.0->openapi_core<0.19.0,>=0.18.0->semantic-kernel) (1.9.0)\n",
      "Requirement already satisfied: charset-normalizer<4,>=2 in /Users/matteolongo/projects/randomness/restaurant-review--anlyzer/sk-python-hello-world/.venv/lib/python3.11/site-packages (from requests~=2.16->msrest>=0.5.0->microsoft-bing-websearch) (3.1.0)\n",
      "Requirement already satisfied: idna<4,>=2.5 in /Users/matteolongo/projects/randomness/restaurant-review--anlyzer/sk-python-hello-world/.venv/lib/python3.11/site-packages (from requests~=2.16->msrest>=0.5.0->microsoft-bing-websearch) (3.4)\n",
      "Requirement already satisfied: urllib3<3,>=1.21.1 in /Users/matteolongo/projects/randomness/restaurant-review--anlyzer/sk-python-hello-world/.venv/lib/python3.11/site-packages (from requests~=2.16->msrest>=0.5.0->microsoft-bing-websearch) (2.0.2)\n",
      "Requirement already satisfied: oauthlib>=3.0.0 in /Users/matteolongo/projects/randomness/restaurant-review--anlyzer/sk-python-hello-world/.venv/lib/python3.11/site-packages (from requests-oauthlib>=0.5.0->msrest>=0.5.0->microsoft-bing-websearch) (3.2.2)\n",
      "Requirement already satisfied: ruamel.yaml.clib>=0.2.7 in /Users/matteolongo/projects/randomness/restaurant-review--anlyzer/sk-python-hello-world/.venv/lib/python3.11/site-packages (from ruamel.yaml>=0.17.10->prance<24.0.0.0,>=23.6.21.0->semantic-kernel) (0.2.8)\n",
      "Requirement already satisfied: multidict<7.0,>=4.5 in /Users/matteolongo/projects/randomness/restaurant-review--anlyzer/sk-python-hello-world/.venv/lib/python3.11/site-packages (from aiohttp->openai<0.28.0,>=0.27.0->semantic-kernel) (6.0.4)\n",
      "Requirement already satisfied: async-timeout<5.0,>=4.0.0a3 in /Users/matteolongo/projects/randomness/restaurant-review--anlyzer/sk-python-hello-world/.venv/lib/python3.11/site-packages (from aiohttp->openai<0.28.0,>=0.27.0->semantic-kernel) (4.0.2)\n",
      "Requirement already satisfied: yarl<2.0,>=1.0 in /Users/matteolongo/projects/randomness/restaurant-review--anlyzer/sk-python-hello-world/.venv/lib/python3.11/site-packages (from aiohttp->openai<0.28.0,>=0.27.0->semantic-kernel) (1.9.2)\n",
      "Requirement already satisfied: frozenlist>=1.1.1 in /Users/matteolongo/projects/randomness/restaurant-review--anlyzer/sk-python-hello-world/.venv/lib/python3.11/site-packages (from aiohttp->openai<0.28.0,>=0.27.0->semantic-kernel) (1.3.3)\n",
      "Requirement already satisfied: aiosignal>=1.1.2 in /Users/matteolongo/projects/randomness/restaurant-review--anlyzer/sk-python-hello-world/.venv/lib/python3.11/site-packages (from aiohttp->openai<0.28.0,>=0.27.0->semantic-kernel) (1.3.1)\n",
      "Requirement already satisfied: MarkupSafe>=2.1.1 in /Users/matteolongo/projects/randomness/restaurant-review--anlyzer/sk-python-hello-world/.venv/lib/python3.11/site-packages (from werkzeug->openapi_core<0.19.0,>=0.18.0->semantic-kernel) (2.1.3)\n",
      "Requirement already satisfied: cffi>=1.12 in /Users/matteolongo/projects/randomness/restaurant-review--anlyzer/sk-python-hello-world/.venv/lib/python3.11/site-packages (from cryptography>=1.1.0->adal<2.0.0,>=0.6.0->msrestazure<2.0.0,>=0.4.32->microsoft-bing-websearch) (1.16.0)\n",
      "Requirement already satisfied: pycparser in /Users/matteolongo/projects/randomness/restaurant-review--anlyzer/sk-python-hello-world/.venv/lib/python3.11/site-packages (from cffi>=1.12->cryptography>=1.1.0->adal<2.0.0,>=0.6.0->msrestazure<2.0.0,>=0.4.32->microsoft-bing-websearch) (2.21)\n"
     ]
    }
   ],
   "source": [
    "!python -m pip install semantic-kernel microsoft-bing-websearch azure-cognitiveservices-search-websearch"
   ]
  },
  {
   "cell_type": "markdown",
   "metadata": {},
   "source": [
    "Imports and GLOBAL variables"
   ]
  },
  {
   "cell_type": "code",
   "execution_count": 2,
   "metadata": {
    "ExecuteTime": {
     "end_time": "2023-11-03T23:33:10.646230Z",
     "start_time": "2023-11-03T23:33:09.158818Z"
    }
   },
   "outputs": [],
   "source": [
    "import os\n",
    "import random\n",
    "import json\n",
    "from semantic_kernel.connectors.ai.open_ai import OpenAIChatCompletion\n",
    "from semantic_kernel.connectors.search_engine import BingConnector\n",
    "from semantic_kernel.core_skills.web_search_engine_skill import WebSearchEngineSkill\n",
    "from semantic_kernel.skill_definition import sk_function\n",
    "from azure.cognitiveservices.search.websearch import WebSearchClient\n",
    "from azure.cognitiveservices.search.websearch.models import SafeSearch\n",
    "from azure.core.credentials import AzureKeyCredential\n",
    "\n",
    "BING_API_KEY = 'b980f25ee9c04792ba93789acab6e10b'\n",
    "skills_directory = \"../skills\"\n"
   ]
  },
  {
   "cell_type": "markdown",
   "metadata": {},
   "source": [
    "Native functions definition"
   ]
  },
  {
   "cell_type": "code",
   "execution_count": 3,
   "metadata": {},
   "outputs": [],
   "source": [
    "class GenerateNumberSkill:\n",
    "    \"\"\"\n",
    "    Description: Generate a number between 3-x.\n",
    "    \"\"\"\n",
    "\n",
    "    @sk_function(\n",
    "        description=\"Generate a random number between 3-x\",\n",
    "        name=\"GenerateNumberThreeOrHigher\"\n",
    "    )\n",
    "    def generate_number_three_or_higher(self, input: str) -> str:\n",
    "        \"\"\"\n",
    "        Generate a number between 3-<input>\n",
    "        Example:\n",
    "            \"8\" => rand(3,8)\n",
    "        Args:\n",
    "            input -- The upper limit for the random number generation\n",
    "        Returns:\n",
    "            int value\n",
    "        \"\"\"\n",
    "        try:\n",
    "            return str(random.randint(3, int(input))) \n",
    "        except ValueError as e:\n",
    "            print(f\"Invalid input {input}\")\n",
    "            raise e\n",
    "\n",
    "class SearchTheInternetSkill:\n",
    "    \"\"\"\n",
    "    Description: Search the internet for user {{INPUT}}\n",
    "    \"\"\"\n",
    "    @sk_function(\n",
    "        description=\"Search the internet for a given topic\",\n",
    "        name=\"Search\"\n",
    "    )\n",
    "    def search(self, input: str) -> str:\n",
    "        try:\n",
    "            ENDPOINT = \"https://api.bing.microsoft.com\"+  \"/v7.0/\"\n",
    "            client = WebSearchClient(AzureKeyCredential(BING_API_KEY))\n",
    "            return json.dump(client.web.search(query=input))\n",
    "        except ValueError as e:\n",
    "            print(f\"Input: {input}\\n Error:{e}\")\n",
    "            raise e\n",
    "        \n",
    "class ValidatorSkill:\n",
    "    \"\"\"\n",
    "    Description: Native Function: Validate model outputs\n",
    "    \"\"\"\n",
    "    @sk_function(\n",
    "        description=\"Validate JSON\",\n",
    "        name=\"ValidateJson\"\n",
    "    )\n",
    "    def validate_json(self, input: str) -> str:\n",
    "        try:\n",
    "            parsed_json = json.loads(input)\n",
    "            return input\n",
    "        except json.JSONDecodeError as e:\n",
    "            return f\"[ERROR]Invalid JSON generated.[/ERROR]\""
   ]
  },
  {
   "cell_type": "markdown",
   "metadata": {},
   "source": [
    "Initialize kernel with gpt-3.5-turbo OpenAIChatCoompletion"
   ]
  },
  {
   "cell_type": "code",
   "execution_count": 4,
   "metadata": {},
   "outputs": [],
   "source": [
    "import semantic_kernel as sk\n",
    "from semantic_kernel.connectors.ai.open_ai import AzureChatCompletion, OpenAIChatCompletion\n",
    "\n",
    "kernel = sk.Kernel()\n",
    "\n",
    "useAzureOpenAI = False\n",
    "\n",
    "# Configure AI service used by the kernel\n",
    "if useAzureOpenAI:\n",
    "    deployment, api_key, endpoint = sk.azure_openai_settings_from_dot_env()\n",
    "    kernel.add_chat_service(\"chat_completion\", AzureChatCompletion(deployment, endpoint, api_key))\n",
    "else:\n",
    "    api_key, org_id = sk.openai_settings_from_dot_env()\n",
    "    kernel.add_chat_service(\"chat-gpt\", OpenAIChatCompletion(\"gpt-3.5-turbo\", api_key, org_id))"
   ]
  },
  {
   "cell_type": "code",
   "execution_count": 6,
   "metadata": {},
   "outputs": [
    {
     "data": {
      "text/plain": [
       "'sk_prompt =\"generate a random json array with at most 10 elements and 5 properties each, each payload about {{$INPUT}}, the output must be complete a parsable json, max lenght 512, only print the output\"\\n\\nrandom_json = kernel.create_semantic_function(sk_prompt, \\'json\\', \\'myrandom\\', \\'generate random json about a topic\\',512)\\nres = await random_json.invoke_async(\"restaurant\")\\nprint(res)\\n'"
      ]
     },
     "execution_count": 6,
     "metadata": {},
     "output_type": "execute_result"
    }
   ],
   "source": [
    "\"\"\"sk_prompt =\"generate a random json array with at most 10 elements and 5 properties each, each payload about {{$INPUT}}, the output must be complete a parsable json, max lenght 512, only print the output\"\n",
    "\n",
    "random_json = kernel.create_semantic_function(sk_prompt, 'json', 'myrandom', 'generate random json about a topic',512)\n",
    "res = await random_json.invoke_async(\"restaurant\")\n",
    "print(res)\n",
    "\"\"\""
   ]
  },
  {
   "cell_type": "code",
   "execution_count": 7,
   "metadata": {},
   "outputs": [
    {
     "data": {
      "text/plain": [
       "'\\nvalidator_skill = kernel.import_skill(ValidatorSkill(), \\'ValidatorSkill\\')\\njson_validator_function = validator_skill[\"ValidateJson\"]\\nvalidation_result = json_validator_function(res.result)\\nprint(validation_result.result)\\n'"
      ]
     },
     "execution_count": 7,
     "metadata": {},
     "output_type": "execute_result"
    }
   ],
   "source": [
    "\"\"\"\n",
    "validator_skill = kernel.import_skill(ValidatorSkill(), 'ValidatorSkill')\n",
    "json_validator_function = validator_skill[\"ValidateJson\"]\n",
    "validation_result = json_validator_function(res.result)\n",
    "print(validation_result.result)\n",
    "\"\"\""
   ]
  },
  {
   "cell_type": "code",
   "execution_count": 10,
   "metadata": {},
   "outputs": [
    {
     "name": "stdout",
     "output_type": "stream",
     "text": [
      "{\n",
      "    \"input\": \"Best places to take nice pictures in Cappadocia\",\n",
      "    \"subtasks\": [\n",
      "        {\"function\": \"NewsSkill.JsonParser\"},\n",
      "        {\"function\": \"NewsSkill.GearFinder\", \"args\": {\"input\": \"Camera equipment for landscape photography\"}}\n",
      "    ]\n",
      "}\n",
      "[OUTPUT]\n",
      "[{\n",
      "\t\"name\":\"Nikon D850\",\n",
      "\t\"brand\":\"Nikon\",\n",
      "\t\"reasoning\":\"The Nikon D850 is widely regarded as one of the best cameras for landscape photography due to its high resolution (45.7 megapixels), excellent dynamic range, and impressive image quality. It also has a rugged build, weather sealing, and a tilting touchscreen for added convenience.\"\n",
      "},\n",
      "{\n",
      "\t\"name\":\"Sony Alpha a7R IV\",\n",
      "\t\"brand\":\"Sony\",\n",
      "\t\"reasoning\":\"The Sony Alpha a7R IV is another top choice for landscape photography. It features a high-resolution full-frame sensor (61 megapixels), excellent low-light performance, and advanced autofocus capabilities. It also has in-body image stabilization and a wide range of compatible lenses.\"\n",
      "},\n",
      "{\n",
      "\t\"name\":\"Canon EOS 5DS R\",\n",
      "\t\"brand\":\"Canon\",\n",
      "\t\"reasoning\":\"The Canon EOS 5DS R is known for its impressive 50.6-megapixel sensor, which delivers incredibly detailed images. It also has a low-pass filter cancellation feature for enhanced sharpness. The camera offers a durable build, intuitive controls, and a wide range of compatible lenses.\"\n",
      "},\n",
      "{\n",
      "\t\"name\":\"Fujifilm GFX 100\",\n",
      "\t\"\n"
     ]
    },
    {
     "data": {
      "text/plain": [
       "'\\nturboFunctions = kernel.import_semantic_skill_from_directory(skills_directory, \"ReviewSkill\")\\n\\ngenerate_number_skill = kernel.import_skill(GenerateNumberSkill(), \\'GenerateNumberSkill\\')\\nsearch_the_internet_skill = kernel.import_skill(SearchTheInternetSkill(), \\'SearchTheInternetSkill\\')\\n\\n\\ngenerateReviewsFunction = turboFunctions[\"GenerateReviews\"]\\ncategorizeReviewsFunction = turboFunctions[\"Categorizer\"]\\n\\nsearch_function = search_the_internet_skill[\\'Search\\']\\n\\nresults = search_function(\"\\'can fisher\\' retaurant barcelona, reviews\")\\nprint(results)\\nconnector = BingConnector(BING_API_KEY)\\nweb_skill = kernel.import_skill(WebSearchEngineSkill(connector), \"WebSearch\")\\n\\nprompt = \"find at most 10 most recent reviews about {{$INPUT}} restaurant in {{$CITY}}\"\\n\\ncontext = kernel.create_new_context()\\ncontext[\"restaurant\"] = \"inquiet\"\\ncontext[\"city\"] = \"barcelona\"\\n\\nsearch_async = web_skill[\"searchAsync\"]\\nresult = await search_async.invoke_async(prompt, context=context)\\nprint(result)\\n'"
      ]
     },
     "execution_count": 10,
     "metadata": {},
     "output_type": "execute_result"
    }
   ],
   "source": [
    "\n",
    "#validator_skill = kernel.import_skill(ValidatorSkill(), 'ValidatorSkill')\n",
    "newsSkills = kernel.import_semantic_skill_from_directory(skills_directory, \"NewsSkill\")\n",
    "newsFunction = newsSkills[\"NewsGenerator\"]\n",
    "gearFunction = newsSkills[\"GearFinder\"]\n",
    "#res = await newsFunction.invoke_async(\"I want to create an article about kite surfing in fuerte ventura, the main keywords is life on the island, the second keywords is type of people interested kite surf that chose to goo to fuerte ventura. The tone fo voice should be engaging and the articole should be writte in italian, the article has to be 100 words\")\n",
    "#resGear = await gearFunction.invoke_async(\"laptop\")\n",
    "from semantic_kernel.planning.basic_planner import BasicPlanner\n",
    "planner = BasicPlanner()\n",
    "newsAsk = \"list of best places to take nice pictures in Cappadocia, primary keywords baloons, in italian, 500 words\"\n",
    "newsOutput = await newsFunction.invoke_async(newsAsk)\n",
    "\n",
    "gearAsk = \"read the related_purchases property, take the first item with category = gear, and find the best options on the market for the item, the item you have to use to provide the options for will be in the contained in the related_purchases[*].name property of this: \" + newsOutput.result\n",
    "try:\n",
    "\n",
    "    plan = await planner.create_plan_async(gearAsk, kernel)\n",
    "    print(plan.generated_plan)\n",
    "    result = await planner.execute_plan_async(plan, kernel)\n",
    "    print(result)\n",
    "except Exception as e:\n",
    "    print(e)\n",
    "\n",
    "\"\"\"\n",
    "turboFunctions = kernel.import_semantic_skill_from_directory(skills_directory, \"ReviewSkill\")\n",
    "\n",
    "generate_number_skill = kernel.import_skill(GenerateNumberSkill(), 'GenerateNumberSkill')\n",
    "search_the_internet_skill = kernel.import_skill(SearchTheInternetSkill(), 'SearchTheInternetSkill')\n",
    "\n",
    "\n",
    "generateReviewsFunction = turboFunctions[\"GenerateReviews\"]\n",
    "categorizeReviewsFunction = turboFunctions[\"Categorizer\"]\n",
    "\n",
    "search_function = search_the_internet_skill['Search']\n",
    "\n",
    "results = search_function(\"'can fisher' retaurant barcelona, reviews\")\n",
    "print(results)\n",
    "connector = BingConnector(BING_API_KEY)\n",
    "web_skill = kernel.import_skill(WebSearchEngineSkill(connector), \"WebSearch\")\n",
    "\n",
    "prompt = \"find at most 10 most recent reviews about {{$INPUT}} restaurant in {{$CITY}}\"\n",
    "\n",
    "context = kernel.create_new_context()\n",
    "context[\"restaurant\"] = \"inquiet\"\n",
    "context[\"city\"] = \"barcelona\"\n",
    "\n",
    "search_async = web_skill[\"searchAsync\"]\n",
    "result = await search_async.invoke_async(prompt, context=context)\n",
    "print(result)\n",
    "\"\"\""
   ]
  },
  {
   "cell_type": "code",
   "execution_count": 9,
   "metadata": {},
   "outputs": [
    {
     "ename": "NameError",
     "evalue": "name 'search' is not defined",
     "output_type": "error",
     "traceback": [
      "\u001b[0;31m---------------------------------------------------------------------------\u001b[0m",
      "\u001b[0;31mNameError\u001b[0m                                 Traceback (most recent call last)",
      "\u001b[1;32m/Users/matteolongo/projects/randomness/restaurant-review--anlyzer/sk-python-hello-world/notebooks/playground.ipynb Cell 12\u001b[0m line \u001b[0;36m2\n\u001b[1;32m      <a href='vscode-notebook-cell:/Users/matteolongo/projects/randomness/restaurant-review--anlyzer/sk-python-hello-world/notebooks/playground.ipynb#X14sZmlsZQ%3D%3D?line=0'>1</a>\u001b[0m \u001b[39mimport\u001b[39;00m \u001b[39mos\u001b[39;00m\n\u001b[0;32m----> <a href='vscode-notebook-cell:/Users/matteolongo/projects/randomness/restaurant-review--anlyzer/sk-python-hello-world/notebooks/playground.ipynb#X14sZmlsZQ%3D%3D?line=1'>2</a>\u001b[0m \u001b[39mfrom\u001b[39;00m \u001b[39mweb_search_client\u001b[39;00m \u001b[39mimport\u001b[39;00m WebSearchClient\n\u001b[1;32m      <a href='vscode-notebook-cell:/Users/matteolongo/projects/randomness/restaurant-review--anlyzer/sk-python-hello-world/notebooks/playground.ipynb#X14sZmlsZQ%3D%3D?line=2'>3</a>\u001b[0m \u001b[39mfrom\u001b[39;00m \u001b[39mweb_search_client\u001b[39;00m\u001b[39m.\u001b[39;00m\u001b[39mmodels\u001b[39;00m \u001b[39mimport\u001b[39;00m SafeSearch\n\u001b[1;32m      <a href='vscode-notebook-cell:/Users/matteolongo/projects/randomness/restaurant-review--anlyzer/sk-python-hello-world/notebooks/playground.ipynb#X14sZmlsZQ%3D%3D?line=3'>4</a>\u001b[0m \u001b[39mfrom\u001b[39;00m \u001b[39mazure\u001b[39;00m\u001b[39m.\u001b[39;00m\u001b[39mcore\u001b[39;00m\u001b[39m.\u001b[39;00m\u001b[39mcredentials\u001b[39;00m \u001b[39mimport\u001b[39;00m AzureKeyCredential\n",
      "File \u001b[0;32m~/projects/randomness/restaurant-review--anlyzer/sk-python-hello-world/.venv/lib/python3.11/site-packages/web_search_client/__init__.py:7\u001b[0m\n\u001b[1;32m      1\u001b[0m \u001b[39m# coding=utf-8\u001b[39;00m\n\u001b[1;32m      2\u001b[0m \u001b[39m# --------------------------------------------------------------------------\u001b[39;00m\n\u001b[1;32m      3\u001b[0m \u001b[39m# Code generated by Microsoft (R) AutoRest Code Generator (autorest: 3.0.6320, generator: {generator})\u001b[39;00m\n\u001b[1;32m      4\u001b[0m \u001b[39m# Changes may cause incorrect behavior and will be lost if the code is regenerated.\u001b[39;00m\n\u001b[1;32m      5\u001b[0m \u001b[39m# --------------------------------------------------------------------------\u001b[39;00m\n\u001b[0;32m----> 7\u001b[0m \u001b[39mfrom\u001b[39;00m \u001b[39m.\u001b[39;00m\u001b[39m_web_search_client\u001b[39;00m \u001b[39mimport\u001b[39;00m WebSearchClient\n\u001b[1;32m      8\u001b[0m __all__ \u001b[39m=\u001b[39m [\u001b[39m'\u001b[39m\u001b[39mWebSearchClient\u001b[39m\u001b[39m'\u001b[39m]\n\u001b[1;32m     10\u001b[0m \u001b[39mtry\u001b[39;00m:\n",
      "File \u001b[0;32m~/projects/randomness/restaurant-review--anlyzer/sk-python-hello-world/.venv/lib/python3.11/site-packages/web_search_client/_web_search_client.py:19\u001b[0m\n\u001b[1;32m     16\u001b[0m     \u001b[39mfrom\u001b[39;00m \u001b[39mazure\u001b[39;00m\u001b[39m.\u001b[39;00m\u001b[39mcore\u001b[39;00m\u001b[39m.\u001b[39;00m\u001b[39mcredentials\u001b[39;00m \u001b[39mimport\u001b[39;00m TokenCredential\n\u001b[1;32m     18\u001b[0m \u001b[39mfrom\u001b[39;00m \u001b[39m.\u001b[39;00m\u001b[39m_configuration\u001b[39;00m \u001b[39mimport\u001b[39;00m WebSearchClientConfiguration\n\u001b[0;32m---> 19\u001b[0m \u001b[39mfrom\u001b[39;00m \u001b[39m.\u001b[39;00m\u001b[39moperations\u001b[39;00m \u001b[39mimport\u001b[39;00m WebOperations\n\u001b[1;32m     20\u001b[0m \u001b[39mfrom\u001b[39;00m \u001b[39m.\u001b[39;00m \u001b[39mimport\u001b[39;00m models\n\u001b[1;32m     23\u001b[0m \u001b[39mclass\u001b[39;00m \u001b[39mWebSearchClient\u001b[39;00m(\u001b[39mobject\u001b[39m):\n",
      "File \u001b[0;32m~/projects/randomness/restaurant-review--anlyzer/sk-python-hello-world/.venv/lib/python3.11/site-packages/web_search_client/operations/__init__.py:7\u001b[0m\n\u001b[1;32m      1\u001b[0m \u001b[39m# coding=utf-8\u001b[39;00m\n\u001b[1;32m      2\u001b[0m \u001b[39m# --------------------------------------------------------------------------\u001b[39;00m\n\u001b[1;32m      3\u001b[0m \u001b[39m# Code generated by Microsoft (R) AutoRest Code Generator (autorest: 3.0.6320, generator: {generator})\u001b[39;00m\n\u001b[1;32m      4\u001b[0m \u001b[39m# Changes may cause incorrect behavior and will be lost if the code is regenerated.\u001b[39;00m\n\u001b[1;32m      5\u001b[0m \u001b[39m# --------------------------------------------------------------------------\u001b[39;00m\n\u001b[0;32m----> 7\u001b[0m \u001b[39mfrom\u001b[39;00m \u001b[39m.\u001b[39;00m\u001b[39m_web_operations\u001b[39;00m \u001b[39mimport\u001b[39;00m WebOperations\n\u001b[1;32m      9\u001b[0m __all__ \u001b[39m=\u001b[39m [\n\u001b[1;32m     10\u001b[0m     \u001b[39m'\u001b[39m\u001b[39mWebOperations\u001b[39m\u001b[39m'\u001b[39m,\n\u001b[1;32m     11\u001b[0m ]\n",
      "File \u001b[0;32m~/projects/randomness/restaurant-review--anlyzer/sk-python-hello-world/.venv/lib/python3.11/site-packages/web_search_client/operations/_web_operations.py:22\u001b[0m\n\u001b[1;32m     19\u001b[0m     T \u001b[39m=\u001b[39m TypeVar(\u001b[39m'\u001b[39m\u001b[39mT\u001b[39m\u001b[39m'\u001b[39m)\n\u001b[1;32m     20\u001b[0m     ClsType \u001b[39m=\u001b[39m Optional[Callable[[PipelineResponse[HttpRequest, HttpResponse], T, Dict[\u001b[39mstr\u001b[39m, Any]], Any]]\n\u001b[0;32m---> 22\u001b[0m \u001b[39mclass\u001b[39;49;00m \u001b[39mWebOperations\u001b[39;49;00m(\u001b[39mobject\u001b[39;49m):\n\u001b[1;32m     23\u001b[0m \u001b[39m    \u001b[39;49m\u001b[39m\"\"\"WebOperations operations.\u001b[39;49;00m\n\u001b[1;32m     24\u001b[0m \n\u001b[1;32m     25\u001b[0m \u001b[39m    You should not instantiate this class directly. Instead, you should create a Client instance that\u001b[39;49;00m\n\u001b[0;32m   (...)\u001b[0m\n\u001b[1;32m     33\u001b[0m \u001b[39m    :param deserializer: An object model deserializer.\u001b[39;49;00m\n\u001b[1;32m     34\u001b[0m \u001b[39m    \"\"\"\u001b[39;49;00m\n\u001b[1;32m     36\u001b[0m     models \u001b[39m=\u001b[39;49m _models\n",
      "File \u001b[0;32m~/projects/randomness/restaurant-review--anlyzer/sk-python-hello-world/.venv/lib/python3.11/site-packages/web_search_client/operations/_web_operations.py:345\u001b[0m, in \u001b[0;36mWebOperations\u001b[0;34m()\u001b[0m\n\u001b[1;32m    342\u001b[0m         \u001b[39mreturn\u001b[39;00m \u001b[39mcls\u001b[39m(pipeline_response, deserialized, {})\n\u001b[1;32m    344\u001b[0m     \u001b[39mreturn\u001b[39;00m deserialized\n\u001b[0;32m--> 345\u001b[0m search\u001b[39m.\u001b[39mmetadata \u001b[39m=\u001b[39m {\u001b[39m'\u001b[39m\u001b[39murl\u001b[39m\u001b[39m'\u001b[39m: \u001b[39m'\u001b[39m\u001b[39m/search\u001b[39m\u001b[39m'\u001b[39m}\n",
      "\u001b[0;31mNameError\u001b[0m: name 'search' is not defined"
     ]
    }
   ],
   "source": [
    "\"\"\"\n",
    "import os\n",
    "from web_search_client import WebSearchClient\n",
    "from web_search_client.models import SafeSearch\n",
    "from azure.core.credentials import AzureKeyCredential\n",
    "\n",
    "\n",
    "ENDPOINT = \"https://api.bing.microsoft.com\"+  \"/v7.0/\"\n",
    "client = WebSearchClient(AzureKeyCredential(BING_API_KEY))\n",
    "web_data = client.web.search(query=\"xbox\")\n",
    "print(\"Searched for Query# \\\" Xbox \\\"\")\n",
    "\"\"\""
   ]
  },
  {
   "cell_type": "code",
   "execution_count": 10,
   "metadata": {},
   "outputs": [
    {
     "ename": "NameError",
     "evalue": "name 'generate_number_skill' is not defined",
     "output_type": "error",
     "traceback": [
      "\u001b[0;31m---------------------------------------------------------------------------\u001b[0m",
      "\u001b[0;31mNameError\u001b[0m                                 Traceback (most recent call last)",
      "\u001b[1;32m/Users/matteolongo/projects/randomness/restaurant-review--anlyzer/sk-python-hello-world/notebooks/playground.ipynb Cell 13\u001b[0m line \u001b[0;36m1\n\u001b[0;32m----> <a href='vscode-notebook-cell:/Users/matteolongo/projects/randomness/restaurant-review--anlyzer/sk-python-hello-world/notebooks/playground.ipynb#X15sZmlsZQ%3D%3D?line=0'>1</a>\u001b[0m generate_number_three_or_higher \u001b[39m=\u001b[39m generate_number_skill[\u001b[39m\"\u001b[39m\u001b[39mGenerateNumberThreeOrHigher\u001b[39m\u001b[39m\"\u001b[39m]\n\u001b[1;32m      <a href='vscode-notebook-cell:/Users/matteolongo/projects/randomness/restaurant-review--anlyzer/sk-python-hello-world/notebooks/playground.ipynb#X15sZmlsZQ%3D%3D?line=1'>2</a>\u001b[0m number_result \u001b[39m=\u001b[39m generate_number_three_or_higher(\u001b[39m6\u001b[39m)\n\u001b[1;32m      <a href='vscode-notebook-cell:/Users/matteolongo/projects/randomness/restaurant-review--anlyzer/sk-python-hello-world/notebooks/playground.ipynb#X15sZmlsZQ%3D%3D?line=2'>3</a>\u001b[0m \u001b[39mprint\u001b[39m(number_result)\n",
      "\u001b[0;31mNameError\u001b[0m: name 'generate_number_skill' is not defined"
     ]
    }
   ],
   "source": [
    "\"\"\"\n",
    "generate_number_three_or_higher = generate_number_skill[\"GenerateNumberThreeOrHigher\"]\n",
    "number_result = generate_number_three_or_higher(6)\n",
    "print(number_result)\n",
    "\"\"\""
   ]
  },
  {
   "cell_type": "code",
   "execution_count": null,
   "metadata": {},
   "outputs": [],
   "source": [
    "reviews = generateReviewsFunction(\"italian\")\n",
    "print(reviews.result)"
   ]
  },
  {
   "cell_type": "code",
   "execution_count": null,
   "metadata": {},
   "outputs": [],
   "source": [
    "print(reviews.result)\n",
    "\n",
    "cateogirzed = categorizeReviewsFunction(reviews.result)"
   ]
  },
  {
   "cell_type": "code",
   "execution_count": null,
   "metadata": {},
   "outputs": [],
   "source": [
    "print(cateogirzed)"
   ]
  }
 ],
 "metadata": {
  "kernelspec": {
   "display_name": ".venv",
   "language": "python",
   "name": "python3"
  },
  "language_info": {
   "codemirror_mode": {
    "name": "ipython",
    "version": 3
   },
   "file_extension": ".py",
   "mimetype": "text/x-python",
   "name": "python",
   "nbconvert_exporter": "python",
   "pygments_lexer": "ipython3",
   "version": "3.11.5"
  }
 },
 "nbformat": 4,
 "nbformat_minor": 2
}
