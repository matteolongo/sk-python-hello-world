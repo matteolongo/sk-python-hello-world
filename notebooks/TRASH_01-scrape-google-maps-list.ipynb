{
 "cells": [
  {
   "cell_type": "markdown",
   "metadata": {},
   "source": [
    "Use of Native Function for LLM output validation"
   ]
  },
  {
   "cell_type": "code",
   "execution_count": 1,
   "metadata": {},
   "outputs": [
    {
     "name": "stdout",
     "output_type": "stream",
     "text": [
      "Collecting beautifulsoup4\n",
      "  Downloading beautifulsoup4-4.12.2-py3-none-any.whl (142 kB)\n",
      "\u001b[2K     \u001b[90m━━━━━━━━━━━━━━━━━━━━━━━━━━━━━━━━━━━━━━━\u001b[0m \u001b[32m143.0/143.0 kB\u001b[0m \u001b[31m2.1 MB/s\u001b[0m eta \u001b[36m0:00:00\u001b[0ma \u001b[36m0:00:01\u001b[0m\n",
      "\u001b[?25hRequirement already satisfied: requests in /Users/matteolongo/projects/randomness/restaurant-review--anlyzer/sk-python-hello-world/.venv/lib/python3.11/site-packages (2.31.0)\n",
      "Collecting soupsieve>1.2 (from beautifulsoup4)\n",
      "  Downloading soupsieve-2.5-py3-none-any.whl.metadata (4.7 kB)\n",
      "Requirement already satisfied: charset-normalizer<4,>=2 in /Users/matteolongo/projects/randomness/restaurant-review--anlyzer/sk-python-hello-world/.venv/lib/python3.11/site-packages (from requests) (3.1.0)\n",
      "Requirement already satisfied: idna<4,>=2.5 in /Users/matteolongo/projects/randomness/restaurant-review--anlyzer/sk-python-hello-world/.venv/lib/python3.11/site-packages (from requests) (3.4)\n",
      "Requirement already satisfied: urllib3<3,>=1.21.1 in /Users/matteolongo/projects/randomness/restaurant-review--anlyzer/sk-python-hello-world/.venv/lib/python3.11/site-packages (from requests) (2.0.2)\n",
      "Requirement already satisfied: certifi>=2017.4.17 in /Users/matteolongo/projects/randomness/restaurant-review--anlyzer/sk-python-hello-world/.venv/lib/python3.11/site-packages (from requests) (2023.7.22)\n",
      "Downloading soupsieve-2.5-py3-none-any.whl (36 kB)\n",
      "Installing collected packages: soupsieve, beautifulsoup4\n",
      "Successfully installed beautifulsoup4-4.12.2 soupsieve-2.5\n"
     ]
    }
   ],
   "source": [
    "!python -m pip install beautifulsoup4 requests"
   ]
  },
  {
   "cell_type": "code",
   "execution_count": 2,
   "metadata": {},
   "outputs": [],
   "source": [
    "import requests\n",
    "from bs4 import BeautifulSoup\n",
    "\n",
    "def scrape_google_maps_list(url):\n",
    "    # Make a request to the URL\n",
    "    headers = {\n",
    "        \"User-Agent\": \"Mozilla/5.0 (Windows NT 10.0; Win64; x64) AppleWebKit/537.36 (KHTML, like Gecko) Chrome/91.0.4472.124 Safari/537.36\"\n",
    "    }\n",
    "    response = requests.get(url, headers=headers)\n",
    "    \n",
    "    if response.status_code != 200:\n",
    "        print(\"Failed to retrieve the webpage.\")\n",
    "        return\n",
    "\n",
    "    # Parse the content with BeautifulSoup\n",
    "    soup = BeautifulSoup(response.content, \"html.parser\")\n",
    "    \n",
    "    # Find the elements you're interested in. This step may require inspecting the webpage to determine the correct selectors.\n",
    "    places = soup.find_all(\"div\", class_=\"place-name-selector\")  # This is just a hypothetical class. You'd have to inspect the page to get the correct one.\n",
    "\n",
    "    for place in places:\n",
    "        print(place.text)"
   ]
  },
  {
   "cell_type": "code",
   "execution_count": 3,
   "metadata": {},
   "outputs": [],
   "source": [
    "# Call the function with the public link to your list\n",
    "scrape_google_maps_list(\"https://maps.app.goo.gl/Mg5u7qChmWNgmoLr9\")"
   ]
  },
  {
   "cell_type": "markdown",
   "metadata": {},
   "source": [
    "Initialize kernel"
   ]
  },
  {
   "cell_type": "code",
   "execution_count": 3,
   "metadata": {},
   "outputs": [
    {
     "data": {
      "text/plain": [
       "<semantic_kernel.kernel.Kernel at 0x1084c00d0>"
      ]
     },
     "execution_count": 3,
     "metadata": {},
     "output_type": "execute_result"
    }
   ],
   "source": [
    "import semantic_kernel as sk\n",
    "from semantic_kernel.connectors.ai.open_ai import OpenAIChatCompletion\n",
    "\n",
    "kernel = sk.Kernel()\n",
    "api_key, org_id = sk.openai_settings_from_dot_env()\n",
    "kernel.add_chat_service(\"chat-gpt\", OpenAIChatCompletion(\"gpt-3.5-turbo\", api_key, org_id))"
   ]
  },
  {
   "cell_type": "markdown",
   "metadata": {},
   "source": [
    "Create inline Semantic Function to generate random JSON about a topic via LLM\n",
    "The TOPIC will be provided as first argument to the function."
   ]
  },
  {
   "cell_type": "code",
   "execution_count": 14,
   "metadata": {},
   "outputs": [
    {
     "name": "stdout",
     "output_type": "stream",
     "text": [
      "[{\"name\": \"Restaurant A\", \"address\": \"123 Main St\", \"city\": \"New York\", \"rating\": 4.5, \"cuisine\": \"Italian\"},\n",
      "{\"name\": \"Restaurant B\", \"address\": \"456 Elm St\", \"city\": \"Los Angeles\", \"rating\": 4.2, \"cuisine\": \"Mexican\"},\n",
      "{\"name\": \"Restaurant C\", \"address\": \"789 Oak St\", \"city\": \"Chicago\", \"rating\": 4.7, \"cuisine\": \"American\"},\n",
      "{\"name\": \"Restaurant D\", \"address\": \"321 Pine St\", \"city\": \"San Francisco\", \"rating\": 4.9, \"cuisine\": \"Japanese\"},\n",
      "{\"name\": \"Restaurant E\", \"address\": \"654 Maple St\", \"city\": \"Miami\", \"rating\": 4.3, \"cuisine\": \"Seafood\"},\n",
      "{\"name\": \"Restaurant F\", \"address\": \"987 Cedar St\", \"city\": \"Seattle\", \"rating\": 4.6, \"cuisine\": \"Indian\"},\n",
      "{\"name\": \"Restaurant G\", \"address\": \"135 Walnut St\", \"city\": \"Austin\", \"rating\": 4.4, \"cuisine\": \"Thai\"},\n",
      "{\"name\": \"Restaurant H\", \"address\": \"246 Birch St\", \"city\": \"Denver\", \"rating\": 4.8, \"cuisine\": \"Steakhouse\"},\n",
      "{\"name\": \"Restaurant I\", \"address\": \"579 Ash St\", \"city\": \"Boston\", \"rating\": 4.1, \"cuisine\": \"French\"},\n",
      "{\"name\": \"Restaurant J\", \"address\": \"864 Spruce St\", \"city\": \"Las Vegas\", \"rating\": 4.0, \"cuisine\": \"Mediterranean\"}]\n"
     ]
    }
   ],
   "source": [
    "sk_prompt =\"generate a random json array with at most 10 elements and 5 properties each, each payload about {{$INPUT}}, the output must be complete a parsable json, max lenght 512, only print the output\"\n",
    "\n",
    "random_json_function = kernel.create_semantic_function(sk_prompt, 'json', 'myrandom', 'generate random json about a topic',512)\n",
    "res = await random_json_function.invoke_async(\"restaurant\")\n",
    "print(res.result)"
   ]
  },
  {
   "cell_type": "markdown",
   "metadata": {},
   "source": [
    "Now we will register the ValidatorSkill into the kernel\n",
    "Then we will extract the ValidateJson function from the skill and use it to validate the LLM output"
   ]
  },
  {
   "cell_type": "code",
   "execution_count": 6,
   "metadata": {},
   "outputs": [
    {
     "name": "stdout",
     "output_type": "stream",
     "text": [
      "[ERROR]Invalid JSON generated.[/ERROR]\n"
     ]
    }
   ],
   "source": [
    "validator_skill = kernel.import_skill(ValidatorSkill(), 'ValidatorSkill')\n",
    "json_validator_function = validator_skill[\"ValidateJson\"]\n",
    "\n",
    "validation_result = json_validator_function(res.result)\n",
    "print(validation_result.result)\n",
    "\n",
    "# Add something to break the parses\n",
    "validation_result = json_validator_function(res.result + \"asd\")\n",
    "print(validation_result.result)"
   ]
  }
 ],
 "metadata": {
  "kernelspec": {
   "display_name": ".venv",
   "language": "python",
   "name": "python3"
  },
  "language_info": {
   "codemirror_mode": {
    "name": "ipython",
    "version": 3
   },
   "file_extension": ".py",
   "mimetype": "text/x-python",
   "name": "python",
   "nbconvert_exporter": "python",
   "pygments_lexer": "ipython3",
   "version": "3.11.5"
  }
 },
 "nbformat": 4,
 "nbformat_minor": 2
}
